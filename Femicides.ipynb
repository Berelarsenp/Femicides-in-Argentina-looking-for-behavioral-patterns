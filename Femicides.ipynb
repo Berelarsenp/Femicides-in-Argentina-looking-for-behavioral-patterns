{
 "cells": [
  {
   "cell_type": "markdown",
   "metadata": {},
   "source": [
    "# Femicides in Argentina"
   ]
  },
  {
   "cell_type": "markdown",
   "metadata": {},
   "source": [
    "## Analizing the dataset\n",
    "\n",
    "The data is located in the `registro-de-femicidios-2018-04-13.csv` CSV file. \n",
    "\n",
    "\n",
    "- **number**: _case number_ (continuous).\n",
    "- **age**: _victim's age_ (continuous).\n",
    "- **gender_identity**: _victim's gender identity_: mujer, transgenero, trans femenina, hombre, travesti, mujer lesbiana (string).\n",
    "- **victim_type**: _if the victim is the real objective or a related person of the victim_: principal, vinculado (string).\n",
    "- **province**: _where the femicide happen_: Buenos Aires, Chaco, Tucuman, Neuquen, Salta, Mendoza, Córdoba, Jujuy, Ciudad de Buenos Aires, Santa Fe, Corrientes, Chubut, Misiones, Santa Cruz, San Luis, Santiago del Estero, La Rioja, Catamarca, Formosa, Entre Rios, San Juan, Rio Negro, La Pampa,Tierra del Fuego (string).\n",
    "- **murder_type**: _how the victim was killed. Could be one single value or a combination_: quemaduras, empalamiento, acuchillamiento, golpes, abuso sexual, asfixia, estrangulamiento, atropellamiento, disparo de bala, apuñalamiento, degollamiento, ahorcamiento, descuartizamiento, desbarrancamiento, otros (string).\n",
    "- **date**: _when the femicide happen_ (date)."
   ]
  },
  {
   "cell_type": "code",
   "execution_count": 1,
   "metadata": {},
   "outputs": [],
   "source": [
    "import pandas as pd\n",
    "import numpy as np\n",
    "import matplotlib.pyplot as plt\n",
    "import seaborn as sns\n",
    "\n",
    "\n",
    "%matplotlib inline\n",
    "\n",
    "import warnings\n",
    "warnings.filterwarnings('ignore')"
   ]
  },
  {
   "cell_type": "code",
   "execution_count": 2,
   "metadata": {},
   "outputs": [],
   "source": [
    "sns.set(rc={'figure.figsize': (18, 6)})"
   ]
  },
  {
   "cell_type": "code",
   "execution_count": 3,
   "metadata": {},
   "outputs": [
    {
     "data": {
      "text/html": [
       "<div>\n",
       "<style>\n",
       "    .dataframe thead tr:only-child th {\n",
       "        text-align: right;\n",
       "    }\n",
       "\n",
       "    .dataframe thead th {\n",
       "        text-align: left;\n",
       "    }\n",
       "\n",
       "    .dataframe tbody tr th {\n",
       "        vertical-align: top;\n",
       "    }\n",
       "</style>\n",
       "<table border=\"1\" class=\"dataframe\">\n",
       "  <thead>\n",
       "    <tr style=\"text-align: right;\">\n",
       "      <th></th>\n",
       "      <th>Case</th>\n",
       "      <th>Age</th>\n",
       "      <th>Gender identity</th>\n",
       "      <th>Victim type</th>\n",
       "      <th>Province</th>\n",
       "      <th>Murder type</th>\n",
       "      <th>Date</th>\n",
       "    </tr>\n",
       "  </thead>\n",
       "  <tbody>\n",
       "    <tr>\n",
       "      <th>0</th>\n",
       "      <td>1108</td>\n",
       "      <td>8</td>\n",
       "      <td>MUJER</td>\n",
       "      <td>VINCULADO</td>\n",
       "      <td>Buenos Aires</td>\n",
       "      <td>QUEMADURAS -</td>\n",
       "      <td>2018-04-06</td>\n",
       "    </tr>\n",
       "    <tr>\n",
       "      <th>1</th>\n",
       "      <td>1108</td>\n",
       "      <td>11</td>\n",
       "      <td>MUJER</td>\n",
       "      <td>VINCULADO</td>\n",
       "      <td>Buenos Aires</td>\n",
       "      <td>QUEMADURAS -</td>\n",
       "      <td>2018-04-06</td>\n",
       "    </tr>\n",
       "    <tr>\n",
       "      <th>2</th>\n",
       "      <td>1108</td>\n",
       "      <td>31</td>\n",
       "      <td>MUJER</td>\n",
       "      <td>PRINCIPAL</td>\n",
       "      <td>Buenos Aires</td>\n",
       "      <td>QUEMADURAS -</td>\n",
       "      <td>2018-04-06</td>\n",
       "    </tr>\n",
       "    <tr>\n",
       "      <th>3</th>\n",
       "      <td>1107</td>\n",
       "      <td>22</td>\n",
       "      <td>MUJER</td>\n",
       "      <td>PRINCIPAL</td>\n",
       "      <td>Chaco</td>\n",
       "      <td>ASFIXIA - DEGOLLAMIENTO -</td>\n",
       "      <td>2018-04-15</td>\n",
       "    </tr>\n",
       "    <tr>\n",
       "      <th>4</th>\n",
       "      <td>1107</td>\n",
       "      <td>18</td>\n",
       "      <td>MUJER</td>\n",
       "      <td>PRINCIPAL</td>\n",
       "      <td>Chaco</td>\n",
       "      <td>ASFIXIA - DEGOLLAMIENTO -</td>\n",
       "      <td>2018-04-15</td>\n",
       "    </tr>\n",
       "  </tbody>\n",
       "</table>\n",
       "</div>"
      ],
      "text/plain": [
       "   Case Age Gender identity Victim type      Province  \\\n",
       "0  1108   8           MUJER   VINCULADO  Buenos Aires   \n",
       "1  1108  11           MUJER   VINCULADO  Buenos Aires   \n",
       "2  1108  31           MUJER   PRINCIPAL  Buenos Aires   \n",
       "3  1107  22           MUJER   PRINCIPAL         Chaco   \n",
       "4  1107  18           MUJER   PRINCIPAL         Chaco   \n",
       "\n",
       "                 Murder type        Date  \n",
       "0               QUEMADURAS -  2018-04-06  \n",
       "1               QUEMADURAS -  2018-04-06  \n",
       "2               QUEMADURAS -  2018-04-06  \n",
       "3  ASFIXIA - DEGOLLAMIENTO -  2018-04-15  \n",
       "4  ASFIXIA - DEGOLLAMIENTO -  2018-04-15  "
      ]
     },
     "execution_count": 3,
     "metadata": {},
     "output_type": "execute_result"
    }
   ],
   "source": [
    "df = pd.read_table('registro-de-femicidios-2018-04-13.csv', sep=',', engine='python', names = ['Case', 'Age', 'Gender identity', 'Victim type', 'Province', 'Murder type', 'Date'])\n",
    "df.head()"
   ]
  },
  {
   "cell_type": "code",
   "execution_count": 4,
   "metadata": {},
   "outputs": [],
   "source": [
    "df['Murder type'] = df['Murder type'].str.rstrip(' -')"
   ]
  },
  {
   "cell_type": "code",
   "execution_count": 5,
   "metadata": {},
   "outputs": [
    {
     "data": {
      "text/plain": [
       "Case                int64\n",
       "Age                object\n",
       "Gender identity    object\n",
       "Victim type        object\n",
       "Province           object\n",
       "Murder type        object\n",
       "Date               object\n",
       "dtype: object"
      ]
     },
     "execution_count": 5,
     "metadata": {},
     "output_type": "execute_result"
    }
   ],
   "source": [
    "df.dtypes"
   ]
  },
  {
   "cell_type": "code",
   "execution_count": 6,
   "metadata": {},
   "outputs": [
    {
     "name": "stdout",
     "output_type": "stream",
     "text": [
      "<class 'pandas.core.frame.DataFrame'>\n",
      "RangeIndex: 1076 entries, 0 to 1075\n",
      "Data columns (total 7 columns):\n",
      "Case               1076 non-null int64\n",
      "Age                1076 non-null object\n",
      "Gender identity    1076 non-null object\n",
      "Victim type        1076 non-null object\n",
      "Province           1076 non-null object\n",
      "Murder type        1076 non-null object\n",
      "Date               1076 non-null object\n",
      "dtypes: int64(1), object(6)\n",
      "memory usage: 58.9+ KB\n"
     ]
    }
   ],
   "source": [
    "df.info()"
   ]
  },
  {
   "cell_type": "raw",
   "metadata": {},
   "source": []
  },
  {
   "cell_type": "markdown",
   "metadata": {},
   "source": [
    "## Searching for junk data"
   ]
  },
  {
   "cell_type": "markdown",
   "metadata": {},
   "source": []
  },
  {
   "cell_type": "code",
   "execution_count": 7,
   "metadata": {},
   "outputs": [
    {
     "data": {
      "text/plain": [
       "Case               False\n",
       "Age                False\n",
       "Gender identity    False\n",
       "Victim type        False\n",
       "Province           False\n",
       "Murder type        False\n",
       "Date               False\n",
       "dtype: bool"
      ]
     },
     "execution_count": 7,
     "metadata": {},
     "output_type": "execute_result"
    }
   ],
   "source": [
    "df.isnull().any()"
   ]
  },
  {
   "cell_type": "code",
   "execution_count": 8,
   "metadata": {},
   "outputs": [
    {
     "data": {
      "text/plain": [
       "array(['8', '11', '31', '22', '18', '21', '30', '47', '23', '26', '69',\n",
       "       '44', '20', '59', '43', '32', '7', '51', '25', '14', '60', '54',\n",
       "       '45', '27', '38', '64', '49', '19', '52', '50', '53', '4', '16',\n",
       "       'Sin datos', '35', '34', '41', '39', '24', '17', '74', '42', '1',\n",
       "       '75', '36', '2', '33', '37', '29', '62', '40', '13', '0', '65',\n",
       "       '46', '80', '67', '55', '73', '66', '999', '10', '3', '15', '48',\n",
       "       '56', '78', '12', '9', '28', '70', '5', '90', '63', '58', '71',\n",
       "       '57', '81', '85', '68', '61', '6', '86', '83'], dtype=object)"
      ]
     },
     "execution_count": 8,
     "metadata": {},
     "output_type": "execute_result"
    }
   ],
   "source": [
    "df['Age'].unique()"
   ]
  },
  {
   "cell_type": "code",
   "execution_count": 9,
   "metadata": {},
   "outputs": [
    {
     "data": {
      "text/plain": [
       "Sin datos    51\n",
       "22           39\n",
       "25           38\n",
       "21           36\n",
       "23           36\n",
       "26           34\n",
       "19           31\n",
       "18           29\n",
       "34           29\n",
       "27           28\n",
       "16           28\n",
       "17           28\n",
       "20           28\n",
       "43           27\n",
       "35           26\n",
       "36           25\n",
       "32           25\n",
       "31           24\n",
       "38           24\n",
       "24           24\n",
       "30           23\n",
       "40           22\n",
       "29           22\n",
       "39           20\n",
       "42           18\n",
       "44           18\n",
       "50           17\n",
       "41           17\n",
       "33           15\n",
       "28           15\n",
       "             ..\n",
       "65            4\n",
       "2             4\n",
       "4             4\n",
       "67            4\n",
       "60            4\n",
       "69            3\n",
       "1             3\n",
       "62            3\n",
       "73            3\n",
       "59            3\n",
       "0             2\n",
       "78            2\n",
       "70            2\n",
       "9             2\n",
       "66            2\n",
       "999           2\n",
       "71            2\n",
       "5             2\n",
       "57            2\n",
       "74            2\n",
       "75            1\n",
       "86            1\n",
       "83            1\n",
       "90            1\n",
       "6             1\n",
       "85            1\n",
       "80            1\n",
       "61            1\n",
       "81            1\n",
       "68            1\n",
       "Name: Age, Length: 84, dtype: int64"
      ]
     },
     "execution_count": 9,
     "metadata": {},
     "output_type": "execute_result"
    }
   ],
   "source": [
    "df['Age'].value_counts()"
   ]
  },
  {
   "cell_type": "code",
   "execution_count": 10,
   "metadata": {},
   "outputs": [
    {
     "data": {
      "text/plain": [
       "51"
      ]
     },
     "execution_count": 10,
     "metadata": {},
     "output_type": "execute_result"
    }
   ],
   "source": [
    "df.loc[df['Age'] == 'Sin datos', 'Age'].count()"
   ]
  },
  {
   "cell_type": "code",
   "execution_count": 11,
   "metadata": {},
   "outputs": [
    {
     "data": {
      "text/plain": [
       "array(['MUJER', 'HOMBRE', 'TRANSGENERO', 'Sin datos', 'TRANS FEMENINA',\n",
       "       'TRAVESTI', 'MUJER LESBIANA'], dtype=object)"
      ]
     },
     "execution_count": 11,
     "metadata": {},
     "output_type": "execute_result"
    }
   ],
   "source": [
    "df['Gender identity'].unique()"
   ]
  },
  {
   "cell_type": "code",
   "execution_count": 12,
   "metadata": {},
   "outputs": [
    {
     "data": {
      "text/plain": [
       "MUJER             958\n",
       "Sin datos          49\n",
       "HOMBRE             39\n",
       "TRAVESTI           19\n",
       "TRANS FEMENINA      7\n",
       "TRANSGENERO         3\n",
       "MUJER LESBIANA      1\n",
       "Name: Gender identity, dtype: int64"
      ]
     },
     "execution_count": 12,
     "metadata": {},
     "output_type": "execute_result"
    }
   ],
   "source": [
    "df['Gender identity'].value_counts()"
   ]
  },
  {
   "cell_type": "code",
   "execution_count": 13,
   "metadata": {},
   "outputs": [
    {
     "data": {
      "text/plain": [
       "49"
      ]
     },
     "execution_count": 13,
     "metadata": {},
     "output_type": "execute_result"
    }
   ],
   "source": [
    "df.loc[df['Gender identity'] == 'Sin datos', 'Gender identity'].count()"
   ]
  },
  {
   "cell_type": "code",
   "execution_count": 14,
   "metadata": {},
   "outputs": [
    {
     "data": {
      "text/plain": [
       "array(['Buenos Aires', 'Chaco', 'Tucuman', 'Neuquen', 'Salta', 'Mendoza',\n",
       "       'Córdoba', 'Jujuy', 'Ciudad de Buenos Aires', 'Santa Fe',\n",
       "       'Corrientes', 'Chubut', 'Misiones', 'Santa Cruz', 'San Luis',\n",
       "       'Santiago del Estero', 'La Rioja', 'Catamarca', 'Formosa',\n",
       "       'Entre Rios', 'San Juan', 'Sin datos', 'Rio Negro', 'La Pampa',\n",
       "       'Tierra del Fuego'], dtype=object)"
      ]
     },
     "execution_count": 14,
     "metadata": {},
     "output_type": "execute_result"
    }
   ],
   "source": [
    "df['Province'].unique()"
   ]
  },
  {
   "cell_type": "code",
   "execution_count": 15,
   "metadata": {},
   "outputs": [
    {
     "data": {
      "text/plain": [
       "array(['VINCULADO', 'PRINCIPAL'], dtype=object)"
      ]
     },
     "execution_count": 15,
     "metadata": {},
     "output_type": "execute_result"
    }
   ],
   "source": [
    "df['Victim type'].unique()"
   ]
  },
  {
   "cell_type": "code",
   "execution_count": 16,
   "metadata": {},
   "outputs": [
    {
     "data": {
      "text/plain": [
       "PRINCIPAL    969\n",
       "VINCULADO    107\n",
       "Name: Victim type, dtype: int64"
      ]
     },
     "execution_count": 16,
     "metadata": {},
     "output_type": "execute_result"
    }
   ],
   "source": [
    "df['Victim type'].value_counts()"
   ]
  },
  {
   "cell_type": "code",
   "execution_count": 17,
   "metadata": {},
   "outputs": [
    {
     "data": {
      "text/plain": [
       "0"
      ]
     },
     "execution_count": 17,
     "metadata": {},
     "output_type": "execute_result"
    }
   ],
   "source": [
    "df.loc[df['Victim type'] == 'Sin datos', 'Victim type'].count()"
   ]
  },
  {
   "cell_type": "code",
   "execution_count": 18,
   "metadata": {},
   "outputs": [
    {
     "data": {
      "text/plain": [
       "array(['QUEMADURAS', 'ASFIXIA - DEGOLLAMIENTO', 'ASFIXIA',\n",
       "       'DISPARO DE BALA', 'ACUCHILLAMIENTO', 'GOLPES - OTROS', 'GOLPES',\n",
       "       'DEGOLLAMIENTO', 'ESTRANGULAMIENTO - ABUSO SEXUAL',\n",
       "       'GOLPES - ESTRANGULAMIENTO', 'GOLPES - QUEMADURAS',\n",
       "       'ESTRANGULAMIENTO - QUEMADURAS', 'GOLPES - DISPARO DE BALA',\n",
       "       'OTROS', 'ESTRANGULAMIENTO', 'GOLPES - AHORCAMIENTO',\n",
       "       'AHORCAMIENTO - ABUSO SEXUAL', 'ABUSO SEXUAL', 'Sin datos',\n",
       "       'AHORCAMIENTO', 'GOLPES - ASFIXIA', 'APUÑALAMIENTO',\n",
       "       'DESCUARTIZAMIENTO', 'GOLPES - ESTRANGULAMIENTO - ABUSO SEXUAL',\n",
       "       'ENVENENAMIENTO', 'ACUCHILLAMIENTO - QUEMADURAS',\n",
       "       'ASFIXIA - QUEMADURAS', 'ACUCHILLAMIENTO - DISPARO DE BALA',\n",
       "       'GOLPES - DESCUARTIZAMIENTO', 'ATROPELLAMIENTO',\n",
       "       'ACUCHILLAMIENTO - GOLPES', 'GOLPES - ABUSO SEXUAL',\n",
       "       'DESBARRANCAMIENTO', 'DISPARO DE BALA - GOLPES', 'Empalamiento',\n",
       "       'QUEMADURAS - ACUCHILLAMIENTO', 'GOLPES - ACUCHILLAMIENTO',\n",
       "       'DISPARO DE BALA - DISPARO DE BALA', 'OTROS - ASFIXIA - GOLPES',\n",
       "       'ACUCHILLAMIENTO - AHORCAMIENTO',\n",
       "       'DEGOLLAMIENTO - ACUCHILLAMIENTO', 'ASFIXIA - GOLPES',\n",
       "       'DEGOLLAMIENTO - GOLPES', 'Empalamiento - OTROS - GOLPES',\n",
       "       'APUÑALAMIENTO - GOLPES', 'OTROS - ESTRANGULAMIENTO',\n",
       "       'ACUCHILLAMIENTO - ACUCHILLAMIENTO', 'DEGOLLAMIENTO - OTROS',\n",
       "       'OTROS - GOLPES', 'APUÑALAMIENTO - DEGOLLAMIENTO - QUEMADURAS',\n",
       "       'APUÑALAMIENTO - QUEMADURAS', 'DISPARO DE BALA - ACUCHILLAMIENTO',\n",
       "       'AHORCAMIENTO - GOLPES', 'QUEMADURAS - GOLPES',\n",
       "       'ESTRANGULAMIENTO - ASFIXIA', 'ESTRANGULAMIENTO - GOLPES',\n",
       "       'ESTRANGULAMIENTO - DESCUARTIZAMIENTO', 'OTROS - QUEMADURAS',\n",
       "       'OTROS - ESTRANGULAMIENTO - GOLPES',\n",
       "       'DISPARO DE BALA - GOLPES - ACUCHILLAMIENTO',\n",
       "       'ATROPELLAMIENTO - GOLPES - ACUCHILLAMIENTO',\n",
       "       'OTROS - GOLPES - ACUCHILLAMIENTO',\n",
       "       'OTROS - ESTRANGULAMIENTO - ASFIXIA',\n",
       "       'OTROS - QUEMADURAS - GOLPES', 'QUEMADURAS - ESTRANGULAMIENTO',\n",
       "       'OTROS - ACUCHILLAMIENTO', 'ESTRANGULAMIENTO - DISPARO DE BALA',\n",
       "       'ASFIXIA - ASFIXIA', 'ATROPELLAMIENTO - GOLPES',\n",
       "       'APUÑALAMIENTO - DEGOLLAMIENTO', 'OTROS - ASFIXIA',\n",
       "       'ESTRANGULAMIENTO - GOLPES - ACUCHILLAMIENTO',\n",
       "       'AHORCAMIENTO - ESTRANGULAMIENTO',\n",
       "       'ASFIXIA - DESBARRANCAMIENTO - GOLPES',\n",
       "       'QUEMADURAS - DISPARO DE BALA',\n",
       "       'QUEMADURAS - ESTRANGULAMIENTO - GOLPES - ACUCHILLAMIENTO',\n",
       "       'AHORCAMIENTO - ASFIXIA - GOLPES', 'GOLPES - DEGOLLAMIENTO',\n",
       "       'DISPARO DE BALA - OTROS'], dtype=object)"
      ]
     },
     "execution_count": 18,
     "metadata": {},
     "output_type": "execute_result"
    }
   ],
   "source": [
    "df['Murder type'].unique()"
   ]
  },
  {
   "cell_type": "code",
   "execution_count": 19,
   "metadata": {},
   "outputs": [
    {
     "data": {
      "text/plain": [
       "DISPARO DE BALA                                             236\n",
       "ACUCHILLAMIENTO                                             192\n",
       "GOLPES                                                      118\n",
       "Sin datos                                                   110\n",
       "ESTRANGULAMIENTO                                             52\n",
       "QUEMADURAS                                                   50\n",
       "APUÑALAMIENTO                                                49\n",
       "ASFIXIA                                                      26\n",
       "DEGOLLAMIENTO                                                22\n",
       "GOLPES - ACUCHILLAMIENTO                                     18\n",
       "OTROS                                                        18\n",
       "AHORCAMIENTO                                                 18\n",
       "OTROS - GOLPES                                               12\n",
       "ESTRANGULAMIENTO - GOLPES                                    10\n",
       "OTROS - ESTRANGULAMIENTO                                      8\n",
       "DESCUARTIZAMIENTO                                             7\n",
       "ESTRANGULAMIENTO - ASFIXIA                                    7\n",
       "DISPARO DE BALA - DISPARO DE BALA                             5\n",
       "ABUSO SEXUAL                                                  5\n",
       "OTROS - ACUCHILLAMIENTO                                       5\n",
       "QUEMADURAS - GOLPES                                           5\n",
       "OTROS - ESTRANGULAMIENTO - GOLPES                             5\n",
       "QUEMADURAS - ACUCHILLAMIENTO                                  5\n",
       "DISPARO DE BALA - GOLPES                                      4\n",
       "ACUCHILLAMIENTO - ACUCHILLAMIENTO                             4\n",
       "APUÑALAMIENTO - GOLPES                                        4\n",
       "ASFIXIA - GOLPES                                              4\n",
       "ATROPELLAMIENTO                                               3\n",
       "GOLPES - OTROS                                                3\n",
       "ESTRANGULAMIENTO - DISPARO DE BALA                            3\n",
       "                                                           ... \n",
       "APUÑALAMIENTO - DEGOLLAMIENTO - QUEMADURAS                    1\n",
       "AHORCAMIENTO - ABUSO SEXUAL                                   1\n",
       "ESTRANGULAMIENTO - ABUSO SEXUAL                               1\n",
       "APUÑALAMIENTO - QUEMADURAS                                    1\n",
       "DEGOLLAMIENTO - OTROS                                         1\n",
       "ASFIXIA - ASFIXIA                                             1\n",
       "ESTRANGULAMIENTO - DESCUARTIZAMIENTO                          1\n",
       "Empalamiento - OTROS - GOLPES                                 1\n",
       "QUEMADURAS - DISPARO DE BALA                                  1\n",
       "ATROPELLAMIENTO - GOLPES - ACUCHILLAMIENTO                    1\n",
       "GOLPES - ASFIXIA                                              1\n",
       "ESTRANGULAMIENTO - GOLPES - ACUCHILLAMIENTO                   1\n",
       "AHORCAMIENTO - ASFIXIA - GOLPES                               1\n",
       "ACUCHILLAMIENTO - AHORCAMIENTO                                1\n",
       "GOLPES - ABUSO SEXUAL                                         1\n",
       "OTROS - ASFIXIA                                               1\n",
       "ACUCHILLAMIENTO - GOLPES                                      1\n",
       "ACUCHILLAMIENTO - DISPARO DE BALA                             1\n",
       "GOLPES - DESCUARTIZAMIENTO                                    1\n",
       "QUEMADURAS - ESTRANGULAMIENTO - GOLPES - ACUCHILLAMIENTO      1\n",
       "GOLPES - AHORCAMIENTO                                         1\n",
       "GOLPES - ESTRANGULAMIENTO                                     1\n",
       "AHORCAMIENTO - ESTRANGULAMIENTO                               1\n",
       "DISPARO DE BALA - OTROS                                       1\n",
       "Empalamiento                                                  1\n",
       "APUÑALAMIENTO - DEGOLLAMIENTO                                 1\n",
       "GOLPES - ESTRANGULAMIENTO - ABUSO SEXUAL                      1\n",
       "ATROPELLAMIENTO - GOLPES                                      1\n",
       "ESTRANGULAMIENTO - QUEMADURAS                                 1\n",
       "ASFIXIA - DESBARRANCAMIENTO - GOLPES                          1\n",
       "Name: Murder type, Length: 79, dtype: int64"
      ]
     },
     "execution_count": 19,
     "metadata": {},
     "output_type": "execute_result"
    }
   ],
   "source": [
    "df['Murder type'].value_counts()"
   ]
  },
  {
   "cell_type": "code",
   "execution_count": 20,
   "metadata": {},
   "outputs": [
    {
     "data": {
      "text/plain": [
       "110"
      ]
     },
     "execution_count": 20,
     "metadata": {},
     "output_type": "execute_result"
    }
   ],
   "source": [
    "df.loc[df['Murder type'] == 'Sin datos', 'Murder type'].count()"
   ]
  },
  {
   "cell_type": "code",
   "execution_count": 21,
   "metadata": {},
   "outputs": [
    {
     "data": {
      "text/plain": [
       "array(['2018-04-06', '2018-04-15', '2018-02-28', '2018-03-25',\n",
       "       '2016-09-14', '2018-04-02', '2018-03-30', '2018-01-14',\n",
       "       '2018-03-29', '2018-03-26', '2013-02-10', '2018-02-05',\n",
       "       '2018-03-08', '2018-03-02', '2018-02-20', '2018-02-25',\n",
       "       '2018-02-13', '2018-02-10', '2018-02-14', '2018-02-08',\n",
       "       '2018-02-09', '2018-02-04', '2018-02-22', '2017-12-28',\n",
       "       '2018-02-01', '2017-05-05', '2018-01-28', '2018-01-24',\n",
       "       '2018-01-22', '2018-01-15', '2017-03-07', '2018-01-02',\n",
       "       '2017-12-17', '2017-12-24', '2017-12-29', '2018-01-04',\n",
       "       '2017-11-21', '2018-12-29', '2017-12-25', '2017-09-12',\n",
       "       '2018-01-06', '2017-12-13', '2018-01-11', '2017-12-18',\n",
       "       '2018-01-10', '2018-01-08', '2017-09-23', '2017-12-19',\n",
       "       '2017-12-07', '2017-12-08', '2014-11-16', '2017-09-20',\n",
       "       '2017-12-09', 'Sin datos', '2017-12-02', '2017-12-11',\n",
       "       '2017-11-27', '2017-12-06', '2015-02-09', '2017-12-01',\n",
       "       '2014-03-28', '2015-11-15', '2017-11-25', '2017-11-11',\n",
       "       '2017-11-07', '2016-01-24', '2017-10-29', '2017-10-28',\n",
       "       '2017-10-25', '2017-10-24', '2017-10-23', '2017-10-20',\n",
       "       '2017-09-28', '2017-10-18', '2017-10-17', '2017-10-09',\n",
       "       '2017-10-06', '2017-09-30', '2017-09-21', '2017-09-17',\n",
       "       '2017-09-09', '2017-09-07', '2017-09-01', '2017-09-11',\n",
       "       '2017-08-12', '2015-02-03', '2015-05-19', '2017-09-05',\n",
       "       '2017-08-27', '2015-12-25', '2016-09-02', '2017-08-26',\n",
       "       '2017-08-20', '2013-04-01', '2017-08-23', '2017-08-19',\n",
       "       '2013-12-09', '2017-07-01', '2017-08-09', '2017-06-20',\n",
       "       '2017-08-08', '2017-08-07', '2017-08-04', '2017-07-28',\n",
       "       '2017-07-25', '2017-07-21', '2014-10-11', '2017-07-24',\n",
       "       '2017-07-13', '2017-07-19', '2017-07-20', '2017-07-15',\n",
       "       '2017-07-14', '2013-05-22', '2017-07-12', '2014-07-06',\n",
       "       '2014-06-22', '2012-12-06', '2017-04-02', '2017-07-08',\n",
       "       '2017-07-09', '2017-07-06', '2017-07-05', '2016-10-30',\n",
       "       '2017-07-03', '2017-06-28', '2012-01-22', '2017-07-02',\n",
       "       '2017-06-27', '2017-06-25', '2017-06-16', '2017-04-20',\n",
       "       '2017-06-22', '2017-06-19', '2017-06-17', '2017-06-11',\n",
       "       '2017-06-10', '2017-06-08', '2017-06-12', '2017-06-05',\n",
       "       '2017-05-28', '2017-06-01', '2017-05-27', '2017-05-23',\n",
       "       '2017-05-16', '2015-12-14', '2017-05-14', '2017-05-07',\n",
       "       '2017-04-26', '2017-05-06', '2017-05-09', '2016-09-19',\n",
       "       '2017-05-04', '2017-02-23', '2017-04-27', '2017-02-11',\n",
       "       '2017-04-29', '2017-04-28', '2017-04-22', '2015-11-23',\n",
       "       '2017-04-19', '2017-04-21', '2017-04-23', '2015-03-16',\n",
       "       '2017-04-17', '2017-04-16', '2017-04-15', '2017-04-11',\n",
       "       '2017-04-13', '2016-05-24', '2017-04-09', '2017-04-14',\n",
       "       '2017-04-04', '2015-11-07', '2016-10-29', '2017-04-08',\n",
       "       '2017-03-22', '2017-04-01', '2014-06-01', '2014-08-27',\n",
       "       '2017-03-01', '2017-03-31', '2017-03-30', '2017-03-27',\n",
       "       '2016-11-22', '2017-03-21', '2017-03-19', '2017-03-18',\n",
       "       '2017-03-20', '2016-08-21', '2017-03-13', '2017-03-10',\n",
       "       '2017-03-05', '2017-03-12', '2017-02-24', '2017-02-28',\n",
       "       '2017-02-27', '2017-02-21', '2017-02-20', '2017-02-17',\n",
       "       '2017-02-15', '2017-02-12', '2017-02-01', '2016-03-21',\n",
       "       '2017-02-03', '2017-02-05', '2017-02-06', '2017-01-27',\n",
       "       '2017-02-04', '2017-01-25', '2017-01-22', '2017-01-20',\n",
       "       '2017-01-21', '2017-01-16', '2014-02-20', '2016-08-29',\n",
       "       '2017-01-15', '2017-01-12', '2017-01-09', '2016-12-24',\n",
       "       '2017-01-06', '2017-01-04', '2017-01-05', '2016-12-30',\n",
       "       '2016-12-29', '2016-12-27', '2016-12-22', '2013-02-12',\n",
       "       '2016-12-25', '2016-12-10', '2016-12-21', '2016-10-09',\n",
       "       '2016-12-18', '2015-11-06', '2016-11-27', '2014-01-24',\n",
       "       '2016-12-12', '2016-12-14', '2016-12-02', '2016-12-08',\n",
       "       '2016-11-28', '2016-12-05', '2016-12-06', '2016-10-11',\n",
       "       '2016-12-01', '2016-11-12', '2016-11-17', '2016-11-13',\n",
       "       '2016-11-11', '2016-11-14', '2016-11-09', '2016-11-07',\n",
       "       '2016-11-05', '2016-10-19', '2016-10-27', '2016-10-24',\n",
       "       '2016-10-23', '2016-09-09', '2016-10-14', '2016-10-18',\n",
       "       '2016-10-17', '2016-10-15', '2016-10-12', '2016-10-16',\n",
       "       '2016-10-13', '2013-08-17', '2015-07-19', '2016-09-21',\n",
       "       '2016-10-01', '2016-10-05', '2016-10-03', '2016-09-28',\n",
       "       '2014-09-21', '2016-09-27', '2016-09-23', '2016-09-13',\n",
       "       '2016-09-18', '2016-09-20', '2015-02-01', '2016-09-16',\n",
       "       '2016-09-12', '2015-03-01', '2016-06-23', '2016-04-01',\n",
       "       '2013-05-12', '2016-09-10', '2016-08-26', '2016-08-28',\n",
       "       '2016-08-16', '2016-08-19', '2016-08-09', '2016-07-20',\n",
       "       '2016-08-06', '2016-08-13', '2016-08-14', '2016-08-07',\n",
       "       '2016-08-08', '2014-03-06', '2016-07-29', '2016-07-31',\n",
       "       '2016-07-28', '2016-07-25', '2014-09-04', '2016-07-06',\n",
       "       '2016-07-23', '2016-07-14', '2016-07-19', '2016-07-12',\n",
       "       '2016-06-13', '2016-07-11', '2016-07-10', '2016-07-07',\n",
       "       '2016-07-05', '2015-12-31', '2016-07-04', '2016-06-26',\n",
       "       '2016-07-03', '2016-06-16', '2016-06-22', '2016-06-20',\n",
       "       '2016-06-08', '2016-06-07', '2016-04-02', '2016-03-18',\n",
       "       '2016-04-12', '2015-12-17', '2016-06-05', '2016-05-28',\n",
       "       '2016-04-23', '2016-05-25', '2016-05-17', '2016-05-14',\n",
       "       '2016-04-22', '2016-05-06', '2016-04-18', '2016-05-03',\n",
       "       '2016-04-28', '2016-04-26', '2015-01-25', '2016-04-27',\n",
       "       '2016-04-24', '2016-04-11', '2016-04-07', '2016-04-06',\n",
       "       '2016-04-04', '2016-03-30', '2016-03-31', '2016-03-23',\n",
       "       '2015-03-27', '2016-03-28', '2016-03-29', '2016-03-27',\n",
       "       '2015-03-23', '2016-03-17', '2016-03-20', '2015-03-04',\n",
       "       '2016-03-13', '2015-04-18', '2016-03-14', '2016-03-11',\n",
       "       '2016-03-07', '2016-02-02', '2016-01-30', '2016-02-26',\n",
       "       '2016-02-28', '2016-02-23', '2016-02-21', '2015-02-14',\n",
       "       '2016-02-17', '2015-12-10', '2016-02-13', '2016-02-15',\n",
       "       '2016-02-07', '2014-01-07', '2016-02-09', '2016-02-10',\n",
       "       '2016-02-06', '2016-02-08', '2015-12-18', '2016-02-04',\n",
       "       '2015-11-04', '2014-02-28', '2015-12-23', '2015-12-20',\n",
       "       '2015-08-27', '2013-04-18', '2016-01-16', '2016-01-23',\n",
       "       '2016-01-22', '2016-01-17', '2016-01-15', '2016-01-13',\n",
       "       '2015-11-22', '2015-12-15', '2015-12-22', '2015-12-11',\n",
       "       '2016-01-04', '2015-12-27', '2015-12-24', '2015-12-01',\n",
       "       '2015-11-24', '2015-12-13', '2015-12-06', '2015-12-03',\n",
       "       '2015-12-02', '2015-09-21', '2015-11-20', '2015-11-13',\n",
       "       '2015-11-16', '2015-11-08', '2014-04-02', '2015-11-11',\n",
       "       '2015-10-30', '2015-10-21', '2013-06-30', '2015-03-14',\n",
       "       '2015-10-28', '2015-10-23', '2015-10-22', '2015-10-18',\n",
       "       '2015-09-05', '2015-10-19', '2014-05-12', '2015-04-29',\n",
       "       '2015-09-18', '2015-10-11', '2015-10-08', '2015-09-25',\n",
       "       '2015-10-12', '2015-10-10', '2015-10-09', '2015-10-07',\n",
       "       '2014-05-30', '2014-08-06', '2014-03-08', '2014-05-25',\n",
       "       '2014-12-07', '2015-10-06', '2015-09-20', '2015-08-21',\n",
       "       '2014-02-19', '2014-10-28', '2014-12-03', '2014-11-25',\n",
       "       '2014-11-06', '2014-03-10', '2015-06-03', '2014-08-21',\n",
       "       '2015-09-12', '2015-08-13', '2015-07-15', '2015-08-19',\n",
       "       '2015-08-02', '2015-08-24', '2015-01-29', '2013-02-24',\n",
       "       '2013-10-29', '2013-06-17', '2013-03-24', '2013-01-13',\n",
       "       '2013-08-28', '2013-02-23', '2013-03-07', '2013-05-30',\n",
       "       '2013-07-08', '2013-10-25', '2013-07-26', '2014-02-06',\n",
       "       '2013-05-01', '2015-05-21', '2013-07-15', '2015-08-31',\n",
       "       '2015-03-12', '2015-04-20', '2015-03-18', '2015-08-16',\n",
       "       '2013-04-30', '2015-08-22', '2015-08-25', '2015-07-31',\n",
       "       '2013-05-03', '2013-04-21', '2013-12-02', '2012-12-16',\n",
       "       '2013-11-05', '2013-12-19', '2013-12-04', '2013-05-18',\n",
       "       '2013-07-28', '2013-11-16', '2013-01-30', '2015-11-19',\n",
       "       '2013-06-18', '2013-03-08', '2012-12-17', '2013-10-26',\n",
       "       '2014-11-26', '2013-12-12', '2013-11-04', '2013-11-24',\n",
       "       '2013-05-07', '2014-05-05', '2013-06-08', '2013-08-20',\n",
       "       '2015-08-15', '2013-02-18', '2014-05-10', '2014-09-06',\n",
       "       '2014-12-20', '2015-08-04', '2013-08-31', '2013-11-20',\n",
       "       '2013-12-17', '2013-06-12', '2014-12-22', '2015-06-01',\n",
       "       '2015-05-28', '2015-07-18', '2013-10-30', '2013-03-13',\n",
       "       '2013-02-11', '2014-08-11', '2014-11-28', '2015-02-13',\n",
       "       '2013-07-12', '2014-07-28', '2015-01-18', '2014-07-18',\n",
       "       '2014-07-07', '2014-06-21', '2014-04-06', '2014-02-11',\n",
       "       '2013-11-25', '2013-11-23', '2013-08-18', '2013-05-20',\n",
       "       '2013-03-25', '2012-12-30', '2013-01-02', '2013-11-07',\n",
       "       '2014-04-28', '2013-10-20', '2013-12-14', '2013-05-06',\n",
       "       '2013-03-31', '2013-01-29', '2013-02-02', '2013-03-12',\n",
       "       '2013-03-03', '2013-02-20', '2013-02-06', '2014-12-06',\n",
       "       '2015-04-14', '2015-04-16', '2013-03-29', '2014-11-30',\n",
       "       '2014-01-17', '2013-09-28', '2013-01-19', '2013-05-26',\n",
       "       '2014-12-13', '2014-06-17', '2014-07-15', '2014-09-17',\n",
       "       '2014-08-15', '2014-08-16', '2013-09-02', '2014-05-06',\n",
       "       '2014-05-28', '2014-12-14', '2014-08-19', '2013-11-10',\n",
       "       '2014-10-09', '2013-10-06', '2014-02-10', '2015-01-13',\n",
       "       '2014-12-09', '2015-02-07', '2014-03-07', '2014-11-14',\n",
       "       '2014-11-20', '2015-04-21', '2014-12-24', '2014-09-03',\n",
       "       '2014-08-10', '2014-06-24', '2014-06-15', '2014-05-23',\n",
       "       '2014-03-13', '2014-01-10', '2013-10-21', '2013-10-19',\n",
       "       '2013-07-27', '2013-06-01', '2013-12-26', '2013-04-28',\n",
       "       '2015-06-17', '2015-04-08', '2014-02-14', '2015-06-18',\n",
       "       '2015-04-22', '2015-04-01', '2015-01-01', '2015-03-29',\n",
       "       '2014-10-13', '2015-05-12', '2014-09-08', '2014-02-23',\n",
       "       '2014-05-03', '2014-04-30', '2013-10-04', '2014-04-23',\n",
       "       '2014-04-16', '2014-08-14', '2014-10-25', '2014-01-13',\n",
       "       '2013-11-01', '2013-10-14', '2013-02-17', '2015-08-03',\n",
       "       '2015-05-15', '2014-06-19', '2014-05-09', '2013-01-16',\n",
       "       '2014-12-04', '2014-11-02', '2015-01-20', '2013-01-17',\n",
       "       '2015-07-29', '2015-04-07', '2015-01-06', '2014-08-03',\n",
       "       '2014-12-29', '2014-12-18', '2015-06-10', '2014-11-08',\n",
       "       '2014-10-24', '2014-10-18', '2014-05-04', '2014-03-09',\n",
       "       '2014-01-29', '2014-08-17', '2015-06-12', '2013-12-30',\n",
       "       '2013-11-22', '2013-10-17', '2013-09-21', '2013-09-15',\n",
       "       '2013-04-06', '2014-04-20', '2015-07-27', '2013-02-14',\n",
       "       '2013-01-09', '2015-07-30', '2015-07-26', '2015-06-19',\n",
       "       '2015-07-25', '2015-07-24', '2015-05-25', '2013-06-02',\n",
       "       '2013-02-22', '2014-12-12', '2014-07-13', '2015-04-09',\n",
       "       '2013-02-08', '2015-07-06', '2015-07-13', '2015-05-01',\n",
       "       '2015-04-10', '2015-03-15', '2015-01-17', '2015-01-21',\n",
       "       '2015-01-05', '2015-04-04', '2015-04-15', '2014-06-14',\n",
       "       '2015-07-12', '2015-05-29', '2015-01-09', '2015-05-04',\n",
       "       '2014-04-10', '2015-03-30', '2015-07-08', '2013-03-17',\n",
       "       '2015-03-11', '2014-12-28', '2014-06-29', '2015-02-23',\n",
       "       '2015-06-07', '2015-05-02', '2014-11-23', '2015-07-02',\n",
       "       '2015-07-01', '2014-04-01', '2014-11-04', '2013-03-30',\n",
       "       '2014-07-31', '2014-07-03', '2014-05-18', '2014-02-27',\n",
       "       '2015-06-27', '2013-05-14', '2013-09-26', '2014-04-15',\n",
       "       '2014-05-19', '2014-01-18', '2014-01-26', '2013-01-01',\n",
       "       '2013-03-26', '2013-02-09', '2015-05-23', '2014-07-23',\n",
       "       '2013-07-20', '2013-09-08', '2013-06-21', '2013-01-27',\n",
       "       '2013-06-10', '2013-07-06', '2014-04-14', '2015-06-06',\n",
       "       '2015-05-10', '2013-05-29', '2015-04-11', '2014-04-05',\n",
       "       '2013-09-07', '2013-09-30', '2014-09-09', '2014-09-30',\n",
       "       '2014-07-25', '2014-10-05', '2014-01-05', '2012-05-21',\n",
       "       '2014-09-28', '2015-01-15', '2014-02-16', '2014-05-16',\n",
       "       '2014-12-02', '2015-01-28', '2014-10-20', '2014-12-11',\n",
       "       '2014-09-18', '2015-02-24', '2015-01-14', '2014-01-16',\n",
       "       '2015-03-20', '2014-08-23', '2014-09-25', '2014-08-13',\n",
       "       '2013-03-05', '2014-03-27'], dtype=object)"
      ]
     },
     "execution_count": 21,
     "metadata": {},
     "output_type": "execute_result"
    }
   ],
   "source": [
    "df['Date'].unique()"
   ]
  },
  {
   "cell_type": "code",
   "execution_count": 22,
   "metadata": {
    "scrolled": true
   },
   "outputs": [
    {
     "data": {
      "text/plain": [
       "Sin datos     36\n",
       "2014-05-10     8\n",
       "2017-02-20     5\n",
       "2016-09-13     5\n",
       "2017-02-05     5\n",
       "2017-12-29     5\n",
       "2016-12-25     5\n",
       "2017-12-08     4\n",
       "2016-10-23     4\n",
       "2016-02-07     4\n",
       "2016-11-07     4\n",
       "2014-09-21     4\n",
       "2015-02-23     4\n",
       "2014-02-19     4\n",
       "2013-10-26     4\n",
       "2017-10-24     3\n",
       "2016-10-09     3\n",
       "2013-01-13     3\n",
       "2016-12-02     3\n",
       "2017-02-12     3\n",
       "2016-03-13     3\n",
       "2016-04-24     3\n",
       "2017-02-15     3\n",
       "2017-04-02     3\n",
       "2014-08-14     3\n",
       "2014-11-23     3\n",
       "2017-09-09     3\n",
       "2018-04-06     3\n",
       "2018-02-13     3\n",
       "2017-03-22     3\n",
       "              ..\n",
       "2017-04-08     1\n",
       "2013-02-09     1\n",
       "2017-01-21     1\n",
       "2016-12-01     1\n",
       "2016-10-03     1\n",
       "2016-04-27     1\n",
       "2014-07-06     1\n",
       "2017-07-05     1\n",
       "2013-01-27     1\n",
       "2017-11-11     1\n",
       "2013-03-07     1\n",
       "2016-05-14     1\n",
       "2017-08-19     1\n",
       "2015-07-18     1\n",
       "2014-04-05     1\n",
       "2016-06-13     1\n",
       "2014-06-29     1\n",
       "2014-12-11     1\n",
       "2017-05-07     1\n",
       "2015-05-02     1\n",
       "2016-02-06     1\n",
       "2017-12-02     1\n",
       "2015-04-15     1\n",
       "2015-08-19     1\n",
       "2017-03-18     1\n",
       "2015-04-11     1\n",
       "2017-01-04     1\n",
       "2014-07-13     1\n",
       "2015-11-04     1\n",
       "2017-03-20     1\n",
       "Name: Date, Length: 750, dtype: int64"
      ]
     },
     "execution_count": 22,
     "metadata": {},
     "output_type": "execute_result"
    }
   ],
   "source": [
    "df['Date'].value_counts()"
   ]
  },
  {
   "cell_type": "markdown",
   "metadata": {},
   "source": [
    "## Converting to NaN"
   ]
  },
  {
   "cell_type": "code",
   "execution_count": 23,
   "metadata": {},
   "outputs": [],
   "source": [
    "df.replace({\n",
    "    'Age': { 'Sin datos': np.nan, '999': np.nan },\n",
    "    'Gender identity': { 'Sin datos': np.nan },\n",
    "    'Victim type': { 'Sin datos': np.nan },\n",
    "    'Murder type': { 'Sin datos': np.nan },\n",
    "    'Date': { 'Sin datos': np.nan }\n",
    "}, inplace=True)"
   ]
  },
  {
   "cell_type": "code",
   "execution_count": 24,
   "metadata": {},
   "outputs": [
    {
     "data": {
      "text/plain": [
       "Case               False\n",
       "Age                 True\n",
       "Gender identity     True\n",
       "Victim type        False\n",
       "Province           False\n",
       "Murder type         True\n",
       "Date                True\n",
       "dtype: bool"
      ]
     },
     "execution_count": 24,
     "metadata": {},
     "output_type": "execute_result"
    }
   ],
   "source": [
    "df.isnull().any()"
   ]
  },
  {
   "cell_type": "code",
   "execution_count": 25,
   "metadata": {},
   "outputs": [
    {
     "data": {
      "text/plain": [
       "(1076, 7)"
      ]
     },
     "execution_count": 25,
     "metadata": {},
     "output_type": "execute_result"
    }
   ],
   "source": [
    "df.shape"
   ]
  },
  {
   "cell_type": "code",
   "execution_count": 26,
   "metadata": {},
   "outputs": [
    {
     "data": {
      "text/plain": [
       "(198, 7)"
      ]
     },
     "execution_count": 26,
     "metadata": {},
     "output_type": "execute_result"
    }
   ],
   "source": [
    "df[df.isnull().any(axis=1)].shape"
   ]
  },
  {
   "cell_type": "markdown",
   "metadata": {},
   "source": [
    "## Fillna and removing junk data"
   ]
  },
  {
   "cell_type": "code",
   "execution_count": 27,
   "metadata": {},
   "outputs": [],
   "source": [
    "df = df.dropna(subset=['Gender identity'])"
   ]
  },
  {
   "cell_type": "code",
   "execution_count": 28,
   "metadata": {},
   "outputs": [],
   "source": [
    "df['Age'] = df['Age'].astype(float)"
   ]
  },
  {
   "cell_type": "code",
   "execution_count": 29,
   "metadata": {},
   "outputs": [
    {
     "data": {
      "text/plain": [
       "32.09368635437882"
      ]
     },
     "execution_count": 29,
     "metadata": {},
     "output_type": "execute_result"
    }
   ],
   "source": [
    "df['Age'].mean()"
   ]
  },
  {
   "cell_type": "code",
   "execution_count": 30,
   "metadata": {},
   "outputs": [
    {
     "data": {
      "text/plain": [
       "32"
      ]
     },
     "execution_count": 30,
     "metadata": {},
     "output_type": "execute_result"
    }
   ],
   "source": [
    "age_mean = round(df['Age'].mean())\n",
    "age_mean"
   ]
  },
  {
   "cell_type": "code",
   "execution_count": 31,
   "metadata": {},
   "outputs": [],
   "source": [
    "df['Age'] = df['Age'].fillna(value=age_mean)"
   ]
  },
  {
   "cell_type": "code",
   "execution_count": 32,
   "metadata": {},
   "outputs": [],
   "source": [
    "df['Age'] = df['Age'].astype(int)"
   ]
  },
  {
   "cell_type": "code",
   "execution_count": 33,
   "metadata": {},
   "outputs": [],
   "source": [
    "df.dropna(axis=0, how='any', inplace=True)"
   ]
  },
  {
   "cell_type": "code",
   "execution_count": 34,
   "metadata": {},
   "outputs": [
    {
     "data": {
      "text/plain": [
       "Case               False\n",
       "Age                False\n",
       "Gender identity    False\n",
       "Victim type        False\n",
       "Province           False\n",
       "Murder type        False\n",
       "Date               False\n",
       "dtype: bool"
      ]
     },
     "execution_count": 34,
     "metadata": {},
     "output_type": "execute_result"
    }
   ],
   "source": [
    "df.isnull().any()"
   ]
  },
  {
   "cell_type": "code",
   "execution_count": 35,
   "metadata": {},
   "outputs": [
    {
     "data": {
      "text/html": [
       "<div>\n",
       "<style>\n",
       "    .dataframe thead tr:only-child th {\n",
       "        text-align: right;\n",
       "    }\n",
       "\n",
       "    .dataframe thead th {\n",
       "        text-align: left;\n",
       "    }\n",
       "\n",
       "    .dataframe tbody tr th {\n",
       "        vertical-align: top;\n",
       "    }\n",
       "</style>\n",
       "<table border=\"1\" class=\"dataframe\">\n",
       "  <thead>\n",
       "    <tr style=\"text-align: right;\">\n",
       "      <th></th>\n",
       "      <th>Case</th>\n",
       "      <th>Age</th>\n",
       "      <th>Gender identity</th>\n",
       "      <th>Victim type</th>\n",
       "      <th>Province</th>\n",
       "      <th>Murder type</th>\n",
       "      <th>Date</th>\n",
       "    </tr>\n",
       "  </thead>\n",
       "  <tbody>\n",
       "    <tr>\n",
       "      <th>0</th>\n",
       "      <td>1108</td>\n",
       "      <td>8</td>\n",
       "      <td>MUJER</td>\n",
       "      <td>VINCULADO</td>\n",
       "      <td>Buenos Aires</td>\n",
       "      <td>QUEMADURAS</td>\n",
       "      <td>2018-04-06</td>\n",
       "    </tr>\n",
       "    <tr>\n",
       "      <th>1</th>\n",
       "      <td>1108</td>\n",
       "      <td>11</td>\n",
       "      <td>MUJER</td>\n",
       "      <td>VINCULADO</td>\n",
       "      <td>Buenos Aires</td>\n",
       "      <td>QUEMADURAS</td>\n",
       "      <td>2018-04-06</td>\n",
       "    </tr>\n",
       "    <tr>\n",
       "      <th>2</th>\n",
       "      <td>1108</td>\n",
       "      <td>31</td>\n",
       "      <td>MUJER</td>\n",
       "      <td>PRINCIPAL</td>\n",
       "      <td>Buenos Aires</td>\n",
       "      <td>QUEMADURAS</td>\n",
       "      <td>2018-04-06</td>\n",
       "    </tr>\n",
       "    <tr>\n",
       "      <th>3</th>\n",
       "      <td>1107</td>\n",
       "      <td>22</td>\n",
       "      <td>MUJER</td>\n",
       "      <td>PRINCIPAL</td>\n",
       "      <td>Chaco</td>\n",
       "      <td>ASFIXIA - DEGOLLAMIENTO</td>\n",
       "      <td>2018-04-15</td>\n",
       "    </tr>\n",
       "    <tr>\n",
       "      <th>4</th>\n",
       "      <td>1107</td>\n",
       "      <td>18</td>\n",
       "      <td>MUJER</td>\n",
       "      <td>PRINCIPAL</td>\n",
       "      <td>Chaco</td>\n",
       "      <td>ASFIXIA - DEGOLLAMIENTO</td>\n",
       "      <td>2018-04-15</td>\n",
       "    </tr>\n",
       "    <tr>\n",
       "      <th>5</th>\n",
       "      <td>1106</td>\n",
       "      <td>21</td>\n",
       "      <td>MUJER</td>\n",
       "      <td>PRINCIPAL</td>\n",
       "      <td>Buenos Aires</td>\n",
       "      <td>ASFIXIA</td>\n",
       "      <td>2018-02-28</td>\n",
       "    </tr>\n",
       "    <tr>\n",
       "      <th>6</th>\n",
       "      <td>1105</td>\n",
       "      <td>30</td>\n",
       "      <td>MUJER</td>\n",
       "      <td>PRINCIPAL</td>\n",
       "      <td>Buenos Aires</td>\n",
       "      <td>DISPARO DE BALA</td>\n",
       "      <td>2018-03-25</td>\n",
       "    </tr>\n",
       "    <tr>\n",
       "      <th>7</th>\n",
       "      <td>1104</td>\n",
       "      <td>47</td>\n",
       "      <td>MUJER</td>\n",
       "      <td>PRINCIPAL</td>\n",
       "      <td>Buenos Aires</td>\n",
       "      <td>ACUCHILLAMIENTO</td>\n",
       "      <td>2016-09-14</td>\n",
       "    </tr>\n",
       "    <tr>\n",
       "      <th>8</th>\n",
       "      <td>1103</td>\n",
       "      <td>23</td>\n",
       "      <td>MUJER</td>\n",
       "      <td>PRINCIPAL</td>\n",
       "      <td>Buenos Aires</td>\n",
       "      <td>ACUCHILLAMIENTO</td>\n",
       "      <td>2018-04-02</td>\n",
       "    </tr>\n",
       "    <tr>\n",
       "      <th>9</th>\n",
       "      <td>1102</td>\n",
       "      <td>26</td>\n",
       "      <td>MUJER</td>\n",
       "      <td>PRINCIPAL</td>\n",
       "      <td>Tucuman</td>\n",
       "      <td>GOLPES - OTROS</td>\n",
       "      <td>2018-03-30</td>\n",
       "    </tr>\n",
       "    <tr>\n",
       "      <th>10</th>\n",
       "      <td>1101</td>\n",
       "      <td>47</td>\n",
       "      <td>MUJER</td>\n",
       "      <td>PRINCIPAL</td>\n",
       "      <td>Neuquen</td>\n",
       "      <td>ACUCHILLAMIENTO</td>\n",
       "      <td>2018-01-14</td>\n",
       "    </tr>\n",
       "    <tr>\n",
       "      <th>11</th>\n",
       "      <td>1100</td>\n",
       "      <td>69</td>\n",
       "      <td>MUJER</td>\n",
       "      <td>PRINCIPAL</td>\n",
       "      <td>Neuquen</td>\n",
       "      <td>GOLPES</td>\n",
       "      <td>2018-03-29</td>\n",
       "    </tr>\n",
       "    <tr>\n",
       "      <th>12</th>\n",
       "      <td>1098</td>\n",
       "      <td>44</td>\n",
       "      <td>MUJER</td>\n",
       "      <td>PRINCIPAL</td>\n",
       "      <td>Salta</td>\n",
       "      <td>ACUCHILLAMIENTO</td>\n",
       "      <td>2018-03-26</td>\n",
       "    </tr>\n",
       "    <tr>\n",
       "      <th>13</th>\n",
       "      <td>1097</td>\n",
       "      <td>30</td>\n",
       "      <td>MUJER</td>\n",
       "      <td>PRINCIPAL</td>\n",
       "      <td>Buenos Aires</td>\n",
       "      <td>DISPARO DE BALA</td>\n",
       "      <td>2018-03-25</td>\n",
       "    </tr>\n",
       "    <tr>\n",
       "      <th>14</th>\n",
       "      <td>1096</td>\n",
       "      <td>20</td>\n",
       "      <td>MUJER</td>\n",
       "      <td>PRINCIPAL</td>\n",
       "      <td>Buenos Aires</td>\n",
       "      <td>GOLPES - OTROS</td>\n",
       "      <td>2013-02-10</td>\n",
       "    </tr>\n",
       "    <tr>\n",
       "      <th>15</th>\n",
       "      <td>1094</td>\n",
       "      <td>59</td>\n",
       "      <td>MUJER</td>\n",
       "      <td>PRINCIPAL</td>\n",
       "      <td>Mendoza</td>\n",
       "      <td>DISPARO DE BALA</td>\n",
       "      <td>2018-02-05</td>\n",
       "    </tr>\n",
       "    <tr>\n",
       "      <th>16</th>\n",
       "      <td>1092</td>\n",
       "      <td>43</td>\n",
       "      <td>MUJER</td>\n",
       "      <td>PRINCIPAL</td>\n",
       "      <td>Mendoza</td>\n",
       "      <td>DISPARO DE BALA</td>\n",
       "      <td>2018-03-08</td>\n",
       "    </tr>\n",
       "    <tr>\n",
       "      <th>17</th>\n",
       "      <td>1091</td>\n",
       "      <td>23</td>\n",
       "      <td>MUJER</td>\n",
       "      <td>PRINCIPAL</td>\n",
       "      <td>Buenos Aires</td>\n",
       "      <td>QUEMADURAS</td>\n",
       "      <td>2018-02-28</td>\n",
       "    </tr>\n",
       "    <tr>\n",
       "      <th>18</th>\n",
       "      <td>1090</td>\n",
       "      <td>31</td>\n",
       "      <td>MUJER</td>\n",
       "      <td>PRINCIPAL</td>\n",
       "      <td>Buenos Aires</td>\n",
       "      <td>DEGOLLAMIENTO</td>\n",
       "      <td>2018-03-02</td>\n",
       "    </tr>\n",
       "    <tr>\n",
       "      <th>19</th>\n",
       "      <td>1089</td>\n",
       "      <td>32</td>\n",
       "      <td>MUJER</td>\n",
       "      <td>PRINCIPAL</td>\n",
       "      <td>Mendoza</td>\n",
       "      <td>GOLPES</td>\n",
       "      <td>2018-02-20</td>\n",
       "    </tr>\n",
       "    <tr>\n",
       "      <th>20</th>\n",
       "      <td>1088</td>\n",
       "      <td>11</td>\n",
       "      <td>MUJER</td>\n",
       "      <td>PRINCIPAL</td>\n",
       "      <td>Buenos Aires</td>\n",
       "      <td>ESTRANGULAMIENTO - ABUSO SEXUAL</td>\n",
       "      <td>2018-02-25</td>\n",
       "    </tr>\n",
       "    <tr>\n",
       "      <th>21</th>\n",
       "      <td>1087</td>\n",
       "      <td>7</td>\n",
       "      <td>HOMBRE</td>\n",
       "      <td>VINCULADO</td>\n",
       "      <td>Mendoza</td>\n",
       "      <td>GOLPES - ESTRANGULAMIENTO</td>\n",
       "      <td>2018-02-13</td>\n",
       "    </tr>\n",
       "    <tr>\n",
       "      <th>22</th>\n",
       "      <td>1087</td>\n",
       "      <td>51</td>\n",
       "      <td>MUJER</td>\n",
       "      <td>VINCULADO</td>\n",
       "      <td>Mendoza</td>\n",
       "      <td>GOLPES</td>\n",
       "      <td>2018-02-13</td>\n",
       "    </tr>\n",
       "    <tr>\n",
       "      <th>23</th>\n",
       "      <td>1087</td>\n",
       "      <td>25</td>\n",
       "      <td>MUJER</td>\n",
       "      <td>PRINCIPAL</td>\n",
       "      <td>Mendoza</td>\n",
       "      <td>GOLPES</td>\n",
       "      <td>2018-02-13</td>\n",
       "    </tr>\n",
       "    <tr>\n",
       "      <th>24</th>\n",
       "      <td>1086</td>\n",
       "      <td>14</td>\n",
       "      <td>MUJER</td>\n",
       "      <td>PRINCIPAL</td>\n",
       "      <td>Córdoba</td>\n",
       "      <td>DISPARO DE BALA</td>\n",
       "      <td>2018-02-10</td>\n",
       "    </tr>\n",
       "    <tr>\n",
       "      <th>25</th>\n",
       "      <td>1085</td>\n",
       "      <td>60</td>\n",
       "      <td>MUJER</td>\n",
       "      <td>PRINCIPAL</td>\n",
       "      <td>Jujuy</td>\n",
       "      <td>GOLPES - QUEMADURAS</td>\n",
       "      <td>2018-02-14</td>\n",
       "    </tr>\n",
       "    <tr>\n",
       "      <th>26</th>\n",
       "      <td>1084</td>\n",
       "      <td>54</td>\n",
       "      <td>MUJER</td>\n",
       "      <td>PRINCIPAL</td>\n",
       "      <td>Ciudad de Buenos Aires</td>\n",
       "      <td>DEGOLLAMIENTO</td>\n",
       "      <td>2018-02-08</td>\n",
       "    </tr>\n",
       "    <tr>\n",
       "      <th>27</th>\n",
       "      <td>1083</td>\n",
       "      <td>45</td>\n",
       "      <td>TRANSGENERO</td>\n",
       "      <td>PRINCIPAL</td>\n",
       "      <td>Santa Fe</td>\n",
       "      <td>ACUCHILLAMIENTO</td>\n",
       "      <td>2018-02-09</td>\n",
       "    </tr>\n",
       "    <tr>\n",
       "      <th>28</th>\n",
       "      <td>1082</td>\n",
       "      <td>27</td>\n",
       "      <td>MUJER</td>\n",
       "      <td>PRINCIPAL</td>\n",
       "      <td>Corrientes</td>\n",
       "      <td>ACUCHILLAMIENTO</td>\n",
       "      <td>2018-02-04</td>\n",
       "    </tr>\n",
       "    <tr>\n",
       "      <th>29</th>\n",
       "      <td>1081</td>\n",
       "      <td>38</td>\n",
       "      <td>MUJER</td>\n",
       "      <td>PRINCIPAL</td>\n",
       "      <td>Chubut</td>\n",
       "      <td>ESTRANGULAMIENTO - QUEMADURAS</td>\n",
       "      <td>2018-02-05</td>\n",
       "    </tr>\n",
       "    <tr>\n",
       "      <th>...</th>\n",
       "      <td>...</td>\n",
       "      <td>...</td>\n",
       "      <td>...</td>\n",
       "      <td>...</td>\n",
       "      <td>...</td>\n",
       "      <td>...</td>\n",
       "      <td>...</td>\n",
       "    </tr>\n",
       "    <tr>\n",
       "      <th>1019</th>\n",
       "      <td>80</td>\n",
       "      <td>25</td>\n",
       "      <td>MUJER</td>\n",
       "      <td>PRINCIPAL</td>\n",
       "      <td>Chubut</td>\n",
       "      <td>DISPARO DE BALA</td>\n",
       "      <td>2013-06-21</td>\n",
       "    </tr>\n",
       "    <tr>\n",
       "      <th>1021</th>\n",
       "      <td>78</td>\n",
       "      <td>16</td>\n",
       "      <td>MUJER</td>\n",
       "      <td>PRINCIPAL</td>\n",
       "      <td>Ciudad de Buenos Aires</td>\n",
       "      <td>AHORCAMIENTO - ASFIXIA - GOLPES</td>\n",
       "      <td>2013-06-10</td>\n",
       "    </tr>\n",
       "    <tr>\n",
       "      <th>1024</th>\n",
       "      <td>73</td>\n",
       "      <td>25</td>\n",
       "      <td>MUJER</td>\n",
       "      <td>PRINCIPAL</td>\n",
       "      <td>Santa Fe</td>\n",
       "      <td>QUEMADURAS</td>\n",
       "      <td>2013-04-01</td>\n",
       "    </tr>\n",
       "    <tr>\n",
       "      <th>1025</th>\n",
       "      <td>69</td>\n",
       "      <td>49</td>\n",
       "      <td>MUJER</td>\n",
       "      <td>PRINCIPAL</td>\n",
       "      <td>Buenos Aires</td>\n",
       "      <td>ESTRANGULAMIENTO - DISPARO DE BALA</td>\n",
       "      <td>2013-11-23</td>\n",
       "    </tr>\n",
       "    <tr>\n",
       "      <th>1027</th>\n",
       "      <td>67</td>\n",
       "      <td>42</td>\n",
       "      <td>MUJER</td>\n",
       "      <td>PRINCIPAL</td>\n",
       "      <td>Santiago del Estero</td>\n",
       "      <td>DISPARO DE BALA</td>\n",
       "      <td>2015-06-06</td>\n",
       "    </tr>\n",
       "    <tr>\n",
       "      <th>1028</th>\n",
       "      <td>62</td>\n",
       "      <td>14</td>\n",
       "      <td>MUJER</td>\n",
       "      <td>PRINCIPAL</td>\n",
       "      <td>Santa Fe</td>\n",
       "      <td>GOLPES - DEGOLLAMIENTO</td>\n",
       "      <td>2015-05-10</td>\n",
       "    </tr>\n",
       "    <tr>\n",
       "      <th>1034</th>\n",
       "      <td>53</td>\n",
       "      <td>19</td>\n",
       "      <td>MUJER</td>\n",
       "      <td>PRINCIPAL</td>\n",
       "      <td>Buenos Aires</td>\n",
       "      <td>ESTRANGULAMIENTO</td>\n",
       "      <td>2013-09-30</td>\n",
       "    </tr>\n",
       "    <tr>\n",
       "      <th>1035</th>\n",
       "      <td>51</td>\n",
       "      <td>38</td>\n",
       "      <td>MUJER</td>\n",
       "      <td>PRINCIPAL</td>\n",
       "      <td>Salta</td>\n",
       "      <td>ESTRANGULAMIENTO - GOLPES</td>\n",
       "      <td>2014-09-08</td>\n",
       "    </tr>\n",
       "    <tr>\n",
       "      <th>1038</th>\n",
       "      <td>47</td>\n",
       "      <td>58</td>\n",
       "      <td>MUJER</td>\n",
       "      <td>PRINCIPAL</td>\n",
       "      <td>Santa Fe</td>\n",
       "      <td>APUÑALAMIENTO</td>\n",
       "      <td>2015-02-23</td>\n",
       "    </tr>\n",
       "    <tr>\n",
       "      <th>1039</th>\n",
       "      <td>45</td>\n",
       "      <td>47</td>\n",
       "      <td>MUJER</td>\n",
       "      <td>PRINCIPAL</td>\n",
       "      <td>Salta</td>\n",
       "      <td>GOLPES</td>\n",
       "      <td>2014-07-25</td>\n",
       "    </tr>\n",
       "    <tr>\n",
       "      <th>1042</th>\n",
       "      <td>42</td>\n",
       "      <td>22</td>\n",
       "      <td>MUJER</td>\n",
       "      <td>VINCULADO</td>\n",
       "      <td>Misiones</td>\n",
       "      <td>ATROPELLAMIENTO</td>\n",
       "      <td>2014-01-05</td>\n",
       "    </tr>\n",
       "    <tr>\n",
       "      <th>1043</th>\n",
       "      <td>40</td>\n",
       "      <td>8</td>\n",
       "      <td>HOMBRE</td>\n",
       "      <td>VINCULADO</td>\n",
       "      <td>Mendoza</td>\n",
       "      <td>DISPARO DE BALA</td>\n",
       "      <td>2014-09-21</td>\n",
       "    </tr>\n",
       "    <tr>\n",
       "      <th>1044</th>\n",
       "      <td>38</td>\n",
       "      <td>22</td>\n",
       "      <td>MUJER</td>\n",
       "      <td>PRINCIPAL</td>\n",
       "      <td>Entre Rios</td>\n",
       "      <td>ASFIXIA - GOLPES</td>\n",
       "      <td>2014-10-24</td>\n",
       "    </tr>\n",
       "    <tr>\n",
       "      <th>1045</th>\n",
       "      <td>37</td>\n",
       "      <td>34</td>\n",
       "      <td>MUJER</td>\n",
       "      <td>PRINCIPAL</td>\n",
       "      <td>Entre Rios</td>\n",
       "      <td>GOLPES</td>\n",
       "      <td>2012-05-21</td>\n",
       "    </tr>\n",
       "    <tr>\n",
       "      <th>1046</th>\n",
       "      <td>36</td>\n",
       "      <td>10</td>\n",
       "      <td>HOMBRE</td>\n",
       "      <td>VINCULADO</td>\n",
       "      <td>Entre Rios</td>\n",
       "      <td>DISPARO DE BALA</td>\n",
       "      <td>2014-09-28</td>\n",
       "    </tr>\n",
       "    <tr>\n",
       "      <th>1051</th>\n",
       "      <td>31</td>\n",
       "      <td>41</td>\n",
       "      <td>MUJER</td>\n",
       "      <td>PRINCIPAL</td>\n",
       "      <td>Córdoba</td>\n",
       "      <td>ACUCHILLAMIENTO</td>\n",
       "      <td>2014-07-23</td>\n",
       "    </tr>\n",
       "    <tr>\n",
       "      <th>1054</th>\n",
       "      <td>27</td>\n",
       "      <td>33</td>\n",
       "      <td>MUJER</td>\n",
       "      <td>PRINCIPAL</td>\n",
       "      <td>Córdoba</td>\n",
       "      <td>ACUCHILLAMIENTO</td>\n",
       "      <td>2014-10-20</td>\n",
       "    </tr>\n",
       "    <tr>\n",
       "      <th>1057</th>\n",
       "      <td>21</td>\n",
       "      <td>36</td>\n",
       "      <td>MUJER</td>\n",
       "      <td>PRINCIPAL</td>\n",
       "      <td>Córdoba</td>\n",
       "      <td>GOLPES - ACUCHILLAMIENTO</td>\n",
       "      <td>2014-09-21</td>\n",
       "    </tr>\n",
       "    <tr>\n",
       "      <th>1058</th>\n",
       "      <td>20</td>\n",
       "      <td>34</td>\n",
       "      <td>MUJER</td>\n",
       "      <td>PRINCIPAL</td>\n",
       "      <td>Córdoba</td>\n",
       "      <td>ACUCHILLAMIENTO</td>\n",
       "      <td>2014-09-18</td>\n",
       "    </tr>\n",
       "    <tr>\n",
       "      <th>1059</th>\n",
       "      <td>19</td>\n",
       "      <td>33</td>\n",
       "      <td>MUJER</td>\n",
       "      <td>PRINCIPAL</td>\n",
       "      <td>Chaco</td>\n",
       "      <td>OTROS - ACUCHILLAMIENTO</td>\n",
       "      <td>2014-10-09</td>\n",
       "    </tr>\n",
       "    <tr>\n",
       "      <th>1064</th>\n",
       "      <td>13</td>\n",
       "      <td>18</td>\n",
       "      <td>MUJER</td>\n",
       "      <td>PRINCIPAL</td>\n",
       "      <td>Buenos Aires</td>\n",
       "      <td>GOLPES</td>\n",
       "      <td>2015-01-09</td>\n",
       "    </tr>\n",
       "    <tr>\n",
       "      <th>1065</th>\n",
       "      <td>12</td>\n",
       "      <td>19</td>\n",
       "      <td>MUJER</td>\n",
       "      <td>PRINCIPAL</td>\n",
       "      <td>Buenos Aires</td>\n",
       "      <td>ACUCHILLAMIENTO</td>\n",
       "      <td>2015-01-14</td>\n",
       "    </tr>\n",
       "    <tr>\n",
       "      <th>1066</th>\n",
       "      <td>11</td>\n",
       "      <td>38</td>\n",
       "      <td>MUJER</td>\n",
       "      <td>PRINCIPAL</td>\n",
       "      <td>Buenos Aires</td>\n",
       "      <td>ESTRANGULAMIENTO - ASFIXIA</td>\n",
       "      <td>2014-01-16</td>\n",
       "    </tr>\n",
       "    <tr>\n",
       "      <th>1068</th>\n",
       "      <td>9</td>\n",
       "      <td>7</td>\n",
       "      <td>MUJER</td>\n",
       "      <td>VINCULADO</td>\n",
       "      <td>Buenos Aires</td>\n",
       "      <td>ACUCHILLAMIENTO</td>\n",
       "      <td>2014-09-04</td>\n",
       "    </tr>\n",
       "    <tr>\n",
       "      <th>1069</th>\n",
       "      <td>8</td>\n",
       "      <td>45</td>\n",
       "      <td>MUJER</td>\n",
       "      <td>PRINCIPAL</td>\n",
       "      <td>Mendoza</td>\n",
       "      <td>DISPARO DE BALA</td>\n",
       "      <td>2014-08-14</td>\n",
       "    </tr>\n",
       "    <tr>\n",
       "      <th>1070</th>\n",
       "      <td>7</td>\n",
       "      <td>16</td>\n",
       "      <td>MUJER</td>\n",
       "      <td>PRINCIPAL</td>\n",
       "      <td>Buenos Aires</td>\n",
       "      <td>ASFIXIA</td>\n",
       "      <td>2014-08-23</td>\n",
       "    </tr>\n",
       "    <tr>\n",
       "      <th>1072</th>\n",
       "      <td>5</td>\n",
       "      <td>49</td>\n",
       "      <td>MUJER</td>\n",
       "      <td>PRINCIPAL</td>\n",
       "      <td>Buenos Aires</td>\n",
       "      <td>DISPARO DE BALA - OTROS</td>\n",
       "      <td>2014-05-18</td>\n",
       "    </tr>\n",
       "    <tr>\n",
       "      <th>1073</th>\n",
       "      <td>4</td>\n",
       "      <td>26</td>\n",
       "      <td>MUJER</td>\n",
       "      <td>PRINCIPAL</td>\n",
       "      <td>Santiago del Estero</td>\n",
       "      <td>DISPARO DE BALA</td>\n",
       "      <td>2014-08-13</td>\n",
       "    </tr>\n",
       "    <tr>\n",
       "      <th>1074</th>\n",
       "      <td>3</td>\n",
       "      <td>23</td>\n",
       "      <td>MUJER</td>\n",
       "      <td>PRINCIPAL</td>\n",
       "      <td>Catamarca</td>\n",
       "      <td>APUÑALAMIENTO - GOLPES</td>\n",
       "      <td>2013-03-05</td>\n",
       "    </tr>\n",
       "    <tr>\n",
       "      <th>1075</th>\n",
       "      <td>2</td>\n",
       "      <td>32</td>\n",
       "      <td>MUJER</td>\n",
       "      <td>PRINCIPAL</td>\n",
       "      <td>Buenos Aires</td>\n",
       "      <td>ACUCHILLAMIENTO</td>\n",
       "      <td>2014-03-27</td>\n",
       "    </tr>\n",
       "  </tbody>\n",
       "</table>\n",
       "<p>910 rows × 7 columns</p>\n",
       "</div>"
      ],
      "text/plain": [
       "      Case  Age Gender identity Victim type                Province  \\\n",
       "0     1108    8           MUJER   VINCULADO            Buenos Aires   \n",
       "1     1108   11           MUJER   VINCULADO            Buenos Aires   \n",
       "2     1108   31           MUJER   PRINCIPAL            Buenos Aires   \n",
       "3     1107   22           MUJER   PRINCIPAL                   Chaco   \n",
       "4     1107   18           MUJER   PRINCIPAL                   Chaco   \n",
       "5     1106   21           MUJER   PRINCIPAL            Buenos Aires   \n",
       "6     1105   30           MUJER   PRINCIPAL            Buenos Aires   \n",
       "7     1104   47           MUJER   PRINCIPAL            Buenos Aires   \n",
       "8     1103   23           MUJER   PRINCIPAL            Buenos Aires   \n",
       "9     1102   26           MUJER   PRINCIPAL                 Tucuman   \n",
       "10    1101   47           MUJER   PRINCIPAL                 Neuquen   \n",
       "11    1100   69           MUJER   PRINCIPAL                 Neuquen   \n",
       "12    1098   44           MUJER   PRINCIPAL                   Salta   \n",
       "13    1097   30           MUJER   PRINCIPAL            Buenos Aires   \n",
       "14    1096   20           MUJER   PRINCIPAL            Buenos Aires   \n",
       "15    1094   59           MUJER   PRINCIPAL                 Mendoza   \n",
       "16    1092   43           MUJER   PRINCIPAL                 Mendoza   \n",
       "17    1091   23           MUJER   PRINCIPAL            Buenos Aires   \n",
       "18    1090   31           MUJER   PRINCIPAL            Buenos Aires   \n",
       "19    1089   32           MUJER   PRINCIPAL                 Mendoza   \n",
       "20    1088   11           MUJER   PRINCIPAL            Buenos Aires   \n",
       "21    1087    7          HOMBRE   VINCULADO                 Mendoza   \n",
       "22    1087   51           MUJER   VINCULADO                 Mendoza   \n",
       "23    1087   25           MUJER   PRINCIPAL                 Mendoza   \n",
       "24    1086   14           MUJER   PRINCIPAL                 Córdoba   \n",
       "25    1085   60           MUJER   PRINCIPAL                   Jujuy   \n",
       "26    1084   54           MUJER   PRINCIPAL  Ciudad de Buenos Aires   \n",
       "27    1083   45     TRANSGENERO   PRINCIPAL                Santa Fe   \n",
       "28    1082   27           MUJER   PRINCIPAL              Corrientes   \n",
       "29    1081   38           MUJER   PRINCIPAL                  Chubut   \n",
       "...    ...  ...             ...         ...                     ...   \n",
       "1019    80   25           MUJER   PRINCIPAL                  Chubut   \n",
       "1021    78   16           MUJER   PRINCIPAL  Ciudad de Buenos Aires   \n",
       "1024    73   25           MUJER   PRINCIPAL                Santa Fe   \n",
       "1025    69   49           MUJER   PRINCIPAL            Buenos Aires   \n",
       "1027    67   42           MUJER   PRINCIPAL     Santiago del Estero   \n",
       "1028    62   14           MUJER   PRINCIPAL                Santa Fe   \n",
       "1034    53   19           MUJER   PRINCIPAL            Buenos Aires   \n",
       "1035    51   38           MUJER   PRINCIPAL                   Salta   \n",
       "1038    47   58           MUJER   PRINCIPAL                Santa Fe   \n",
       "1039    45   47           MUJER   PRINCIPAL                   Salta   \n",
       "1042    42   22           MUJER   VINCULADO                Misiones   \n",
       "1043    40    8          HOMBRE   VINCULADO                 Mendoza   \n",
       "1044    38   22           MUJER   PRINCIPAL              Entre Rios   \n",
       "1045    37   34           MUJER   PRINCIPAL              Entre Rios   \n",
       "1046    36   10          HOMBRE   VINCULADO              Entre Rios   \n",
       "1051    31   41           MUJER   PRINCIPAL                 Córdoba   \n",
       "1054    27   33           MUJER   PRINCIPAL                 Córdoba   \n",
       "1057    21   36           MUJER   PRINCIPAL                 Córdoba   \n",
       "1058    20   34           MUJER   PRINCIPAL                 Córdoba   \n",
       "1059    19   33           MUJER   PRINCIPAL                   Chaco   \n",
       "1064    13   18           MUJER   PRINCIPAL            Buenos Aires   \n",
       "1065    12   19           MUJER   PRINCIPAL            Buenos Aires   \n",
       "1066    11   38           MUJER   PRINCIPAL            Buenos Aires   \n",
       "1068     9    7           MUJER   VINCULADO            Buenos Aires   \n",
       "1069     8   45           MUJER   PRINCIPAL                 Mendoza   \n",
       "1070     7   16           MUJER   PRINCIPAL            Buenos Aires   \n",
       "1072     5   49           MUJER   PRINCIPAL            Buenos Aires   \n",
       "1073     4   26           MUJER   PRINCIPAL     Santiago del Estero   \n",
       "1074     3   23           MUJER   PRINCIPAL               Catamarca   \n",
       "1075     2   32           MUJER   PRINCIPAL            Buenos Aires   \n",
       "\n",
       "                             Murder type        Date  \n",
       "0                             QUEMADURAS  2018-04-06  \n",
       "1                             QUEMADURAS  2018-04-06  \n",
       "2                             QUEMADURAS  2018-04-06  \n",
       "3                ASFIXIA - DEGOLLAMIENTO  2018-04-15  \n",
       "4                ASFIXIA - DEGOLLAMIENTO  2018-04-15  \n",
       "5                                ASFIXIA  2018-02-28  \n",
       "6                        DISPARO DE BALA  2018-03-25  \n",
       "7                        ACUCHILLAMIENTO  2016-09-14  \n",
       "8                        ACUCHILLAMIENTO  2018-04-02  \n",
       "9                         GOLPES - OTROS  2018-03-30  \n",
       "10                       ACUCHILLAMIENTO  2018-01-14  \n",
       "11                                GOLPES  2018-03-29  \n",
       "12                       ACUCHILLAMIENTO  2018-03-26  \n",
       "13                       DISPARO DE BALA  2018-03-25  \n",
       "14                        GOLPES - OTROS  2013-02-10  \n",
       "15                       DISPARO DE BALA  2018-02-05  \n",
       "16                       DISPARO DE BALA  2018-03-08  \n",
       "17                            QUEMADURAS  2018-02-28  \n",
       "18                         DEGOLLAMIENTO  2018-03-02  \n",
       "19                                GOLPES  2018-02-20  \n",
       "20       ESTRANGULAMIENTO - ABUSO SEXUAL  2018-02-25  \n",
       "21             GOLPES - ESTRANGULAMIENTO  2018-02-13  \n",
       "22                                GOLPES  2018-02-13  \n",
       "23                                GOLPES  2018-02-13  \n",
       "24                       DISPARO DE BALA  2018-02-10  \n",
       "25                   GOLPES - QUEMADURAS  2018-02-14  \n",
       "26                         DEGOLLAMIENTO  2018-02-08  \n",
       "27                       ACUCHILLAMIENTO  2018-02-09  \n",
       "28                       ACUCHILLAMIENTO  2018-02-04  \n",
       "29         ESTRANGULAMIENTO - QUEMADURAS  2018-02-05  \n",
       "...                                  ...         ...  \n",
       "1019                     DISPARO DE BALA  2013-06-21  \n",
       "1021     AHORCAMIENTO - ASFIXIA - GOLPES  2013-06-10  \n",
       "1024                          QUEMADURAS  2013-04-01  \n",
       "1025  ESTRANGULAMIENTO - DISPARO DE BALA  2013-11-23  \n",
       "1027                     DISPARO DE BALA  2015-06-06  \n",
       "1028              GOLPES - DEGOLLAMIENTO  2015-05-10  \n",
       "1034                    ESTRANGULAMIENTO  2013-09-30  \n",
       "1035           ESTRANGULAMIENTO - GOLPES  2014-09-08  \n",
       "1038                       APUÑALAMIENTO  2015-02-23  \n",
       "1039                              GOLPES  2014-07-25  \n",
       "1042                     ATROPELLAMIENTO  2014-01-05  \n",
       "1043                     DISPARO DE BALA  2014-09-21  \n",
       "1044                    ASFIXIA - GOLPES  2014-10-24  \n",
       "1045                              GOLPES  2012-05-21  \n",
       "1046                     DISPARO DE BALA  2014-09-28  \n",
       "1051                     ACUCHILLAMIENTO  2014-07-23  \n",
       "1054                     ACUCHILLAMIENTO  2014-10-20  \n",
       "1057            GOLPES - ACUCHILLAMIENTO  2014-09-21  \n",
       "1058                     ACUCHILLAMIENTO  2014-09-18  \n",
       "1059             OTROS - ACUCHILLAMIENTO  2014-10-09  \n",
       "1064                              GOLPES  2015-01-09  \n",
       "1065                     ACUCHILLAMIENTO  2015-01-14  \n",
       "1066          ESTRANGULAMIENTO - ASFIXIA  2014-01-16  \n",
       "1068                     ACUCHILLAMIENTO  2014-09-04  \n",
       "1069                     DISPARO DE BALA  2014-08-14  \n",
       "1070                             ASFIXIA  2014-08-23  \n",
       "1072             DISPARO DE BALA - OTROS  2014-05-18  \n",
       "1073                     DISPARO DE BALA  2014-08-13  \n",
       "1074              APUÑALAMIENTO - GOLPES  2013-03-05  \n",
       "1075                     ACUCHILLAMIENTO  2014-03-27  \n",
       "\n",
       "[910 rows x 7 columns]"
      ]
     },
     "execution_count": 35,
     "metadata": {},
     "output_type": "execute_result"
    }
   ],
   "source": [
    "df"
   ]
  },
  {
   "cell_type": "code",
   "execution_count": 36,
   "metadata": {},
   "outputs": [
    {
     "data": {
      "text/plain": [
       "Case                int64\n",
       "Age                 int64\n",
       "Gender identity    object\n",
       "Victim type        object\n",
       "Province           object\n",
       "Murder type        object\n",
       "Date               object\n",
       "dtype: object"
      ]
     },
     "execution_count": 36,
     "metadata": {},
     "output_type": "execute_result"
    }
   ],
   "source": [
    "df.dtypes"
   ]
  },
  {
   "cell_type": "markdown",
   "metadata": {},
   "source": [
    "## Converting types"
   ]
  },
  {
   "cell_type": "code",
   "execution_count": 37,
   "metadata": {},
   "outputs": [],
   "source": [
    "df['Age'] = pd.to_numeric(df['Age'])"
   ]
  },
  {
   "cell_type": "code",
   "execution_count": 38,
   "metadata": {},
   "outputs": [],
   "source": [
    "df['Date'] = pd.to_datetime(df['Date'])"
   ]
  },
  {
   "cell_type": "code",
   "execution_count": 39,
   "metadata": {},
   "outputs": [],
   "source": [
    "df['Gender identity'] = df['Gender identity'].str.capitalize()"
   ]
  },
  {
   "cell_type": "code",
   "execution_count": 40,
   "metadata": {},
   "outputs": [],
   "source": [
    "df['Victim type'] = df['Victim type'].str.capitalize()"
   ]
  },
  {
   "cell_type": "code",
   "execution_count": 41,
   "metadata": {},
   "outputs": [],
   "source": [
    "df['Murder type'] = df['Murder type'].str.title()"
   ]
  },
  {
   "cell_type": "code",
   "execution_count": 42,
   "metadata": {},
   "outputs": [
    {
     "data": {
      "text/html": [
       "<div>\n",
       "<style>\n",
       "    .dataframe thead tr:only-child th {\n",
       "        text-align: right;\n",
       "    }\n",
       "\n",
       "    .dataframe thead th {\n",
       "        text-align: left;\n",
       "    }\n",
       "\n",
       "    .dataframe tbody tr th {\n",
       "        vertical-align: top;\n",
       "    }\n",
       "</style>\n",
       "<table border=\"1\" class=\"dataframe\">\n",
       "  <thead>\n",
       "    <tr style=\"text-align: right;\">\n",
       "      <th></th>\n",
       "      <th>Case</th>\n",
       "      <th>Age</th>\n",
       "      <th>Gender identity</th>\n",
       "      <th>Victim type</th>\n",
       "      <th>Province</th>\n",
       "      <th>Murder type</th>\n",
       "      <th>Date</th>\n",
       "    </tr>\n",
       "  </thead>\n",
       "  <tbody>\n",
       "    <tr>\n",
       "      <th>0</th>\n",
       "      <td>1108</td>\n",
       "      <td>8</td>\n",
       "      <td>Mujer</td>\n",
       "      <td>Vinculado</td>\n",
       "      <td>Buenos Aires</td>\n",
       "      <td>Quemaduras</td>\n",
       "      <td>2018-04-06</td>\n",
       "    </tr>\n",
       "    <tr>\n",
       "      <th>1</th>\n",
       "      <td>1108</td>\n",
       "      <td>11</td>\n",
       "      <td>Mujer</td>\n",
       "      <td>Vinculado</td>\n",
       "      <td>Buenos Aires</td>\n",
       "      <td>Quemaduras</td>\n",
       "      <td>2018-04-06</td>\n",
       "    </tr>\n",
       "    <tr>\n",
       "      <th>2</th>\n",
       "      <td>1108</td>\n",
       "      <td>31</td>\n",
       "      <td>Mujer</td>\n",
       "      <td>Principal</td>\n",
       "      <td>Buenos Aires</td>\n",
       "      <td>Quemaduras</td>\n",
       "      <td>2018-04-06</td>\n",
       "    </tr>\n",
       "    <tr>\n",
       "      <th>3</th>\n",
       "      <td>1107</td>\n",
       "      <td>22</td>\n",
       "      <td>Mujer</td>\n",
       "      <td>Principal</td>\n",
       "      <td>Chaco</td>\n",
       "      <td>Asfixia - Degollamiento</td>\n",
       "      <td>2018-04-15</td>\n",
       "    </tr>\n",
       "    <tr>\n",
       "      <th>4</th>\n",
       "      <td>1107</td>\n",
       "      <td>18</td>\n",
       "      <td>Mujer</td>\n",
       "      <td>Principal</td>\n",
       "      <td>Chaco</td>\n",
       "      <td>Asfixia - Degollamiento</td>\n",
       "      <td>2018-04-15</td>\n",
       "    </tr>\n",
       "  </tbody>\n",
       "</table>\n",
       "</div>"
      ],
      "text/plain": [
       "   Case  Age Gender identity Victim type      Province  \\\n",
       "0  1108    8           Mujer   Vinculado  Buenos Aires   \n",
       "1  1108   11           Mujer   Vinculado  Buenos Aires   \n",
       "2  1108   31           Mujer   Principal  Buenos Aires   \n",
       "3  1107   22           Mujer   Principal         Chaco   \n",
       "4  1107   18           Mujer   Principal         Chaco   \n",
       "\n",
       "               Murder type       Date  \n",
       "0               Quemaduras 2018-04-06  \n",
       "1               Quemaduras 2018-04-06  \n",
       "2               Quemaduras 2018-04-06  \n",
       "3  Asfixia - Degollamiento 2018-04-15  \n",
       "4  Asfixia - Degollamiento 2018-04-15  "
      ]
     },
     "execution_count": 42,
     "metadata": {},
     "output_type": "execute_result"
    }
   ],
   "source": [
    "df.head()"
   ]
  },
  {
   "cell_type": "code",
   "execution_count": 43,
   "metadata": {},
   "outputs": [
    {
     "data": {
      "text/plain": [
       "Case                        int64\n",
       "Age                         int64\n",
       "Gender identity            object\n",
       "Victim type                object\n",
       "Province                   object\n",
       "Murder type                object\n",
       "Date               datetime64[ns]\n",
       "dtype: object"
      ]
     },
     "execution_count": 43,
     "metadata": {},
     "output_type": "execute_result"
    }
   ],
   "source": [
    "df.dtypes"
   ]
  },
  {
   "cell_type": "markdown",
   "metadata": {},
   "source": [
    "## Adding some new info (from the current info)"
   ]
  },
  {
   "cell_type": "code",
   "execution_count": 44,
   "metadata": {
    "scrolled": false
   },
   "outputs": [
    {
     "data": {
      "text/html": [
       "<div>\n",
       "<style>\n",
       "    .dataframe thead tr:only-child th {\n",
       "        text-align: right;\n",
       "    }\n",
       "\n",
       "    .dataframe thead th {\n",
       "        text-align: left;\n",
       "    }\n",
       "\n",
       "    .dataframe tbody tr th {\n",
       "        vertical-align: top;\n",
       "    }\n",
       "</style>\n",
       "<table border=\"1\" class=\"dataframe\">\n",
       "  <thead>\n",
       "    <tr style=\"text-align: right;\">\n",
       "      <th></th>\n",
       "      <th>Case</th>\n",
       "      <th>Age</th>\n",
       "      <th>Gender identity</th>\n",
       "      <th>Victim type</th>\n",
       "      <th>Province</th>\n",
       "      <th>Murder type</th>\n",
       "      <th>Date</th>\n",
       "      <th>Day of week</th>\n",
       "    </tr>\n",
       "  </thead>\n",
       "  <tbody>\n",
       "    <tr>\n",
       "      <th>0</th>\n",
       "      <td>1108</td>\n",
       "      <td>8</td>\n",
       "      <td>Mujer</td>\n",
       "      <td>Vinculado</td>\n",
       "      <td>Buenos Aires</td>\n",
       "      <td>Quemaduras</td>\n",
       "      <td>2018-04-06</td>\n",
       "      <td>Friday</td>\n",
       "    </tr>\n",
       "    <tr>\n",
       "      <th>1</th>\n",
       "      <td>1108</td>\n",
       "      <td>11</td>\n",
       "      <td>Mujer</td>\n",
       "      <td>Vinculado</td>\n",
       "      <td>Buenos Aires</td>\n",
       "      <td>Quemaduras</td>\n",
       "      <td>2018-04-06</td>\n",
       "      <td>Friday</td>\n",
       "    </tr>\n",
       "    <tr>\n",
       "      <th>2</th>\n",
       "      <td>1108</td>\n",
       "      <td>31</td>\n",
       "      <td>Mujer</td>\n",
       "      <td>Principal</td>\n",
       "      <td>Buenos Aires</td>\n",
       "      <td>Quemaduras</td>\n",
       "      <td>2018-04-06</td>\n",
       "      <td>Friday</td>\n",
       "    </tr>\n",
       "    <tr>\n",
       "      <th>3</th>\n",
       "      <td>1107</td>\n",
       "      <td>22</td>\n",
       "      <td>Mujer</td>\n",
       "      <td>Principal</td>\n",
       "      <td>Chaco</td>\n",
       "      <td>Asfixia - Degollamiento</td>\n",
       "      <td>2018-04-15</td>\n",
       "      <td>Sunday</td>\n",
       "    </tr>\n",
       "    <tr>\n",
       "      <th>4</th>\n",
       "      <td>1107</td>\n",
       "      <td>18</td>\n",
       "      <td>Mujer</td>\n",
       "      <td>Principal</td>\n",
       "      <td>Chaco</td>\n",
       "      <td>Asfixia - Degollamiento</td>\n",
       "      <td>2018-04-15</td>\n",
       "      <td>Sunday</td>\n",
       "    </tr>\n",
       "  </tbody>\n",
       "</table>\n",
       "</div>"
      ],
      "text/plain": [
       "   Case  Age Gender identity Victim type      Province  \\\n",
       "0  1108    8           Mujer   Vinculado  Buenos Aires   \n",
       "1  1108   11           Mujer   Vinculado  Buenos Aires   \n",
       "2  1108   31           Mujer   Principal  Buenos Aires   \n",
       "3  1107   22           Mujer   Principal         Chaco   \n",
       "4  1107   18           Mujer   Principal         Chaco   \n",
       "\n",
       "               Murder type       Date Day of week  \n",
       "0               Quemaduras 2018-04-06      Friday  \n",
       "1               Quemaduras 2018-04-06      Friday  \n",
       "2               Quemaduras 2018-04-06      Friday  \n",
       "3  Asfixia - Degollamiento 2018-04-15      Sunday  \n",
       "4  Asfixia - Degollamiento 2018-04-15      Sunday  "
      ]
     },
     "execution_count": 44,
     "metadata": {},
     "output_type": "execute_result"
    }
   ],
   "source": [
    "df['Day of week'] = df['Date'].dt.weekday_name\n",
    "df.head()"
   ]
  },
  {
   "cell_type": "code",
   "execution_count": 45,
   "metadata": {},
   "outputs": [
    {
     "data": {
      "text/html": [
       "<div>\n",
       "<style>\n",
       "    .dataframe thead tr:only-child th {\n",
       "        text-align: right;\n",
       "    }\n",
       "\n",
       "    .dataframe thead th {\n",
       "        text-align: left;\n",
       "    }\n",
       "\n",
       "    .dataframe tbody tr th {\n",
       "        vertical-align: top;\n",
       "    }\n",
       "</style>\n",
       "<table border=\"1\" class=\"dataframe\">\n",
       "  <thead>\n",
       "    <tr style=\"text-align: right;\">\n",
       "      <th></th>\n",
       "      <th>Case</th>\n",
       "      <th>Age</th>\n",
       "      <th>Gender identity</th>\n",
       "      <th>Victim type</th>\n",
       "      <th>Province</th>\n",
       "      <th>Murder type</th>\n",
       "      <th>Date</th>\n",
       "      <th>Day of week</th>\n",
       "      <th>Age range</th>\n",
       "    </tr>\n",
       "  </thead>\n",
       "  <tbody>\n",
       "    <tr>\n",
       "      <th>0</th>\n",
       "      <td>1108</td>\n",
       "      <td>8</td>\n",
       "      <td>Mujer</td>\n",
       "      <td>Vinculado</td>\n",
       "      <td>Buenos Aires</td>\n",
       "      <td>Quemaduras</td>\n",
       "      <td>2018-04-06</td>\n",
       "      <td>Friday</td>\n",
       "      <td>0-13</td>\n",
       "    </tr>\n",
       "    <tr>\n",
       "      <th>1</th>\n",
       "      <td>1108</td>\n",
       "      <td>11</td>\n",
       "      <td>Mujer</td>\n",
       "      <td>Vinculado</td>\n",
       "      <td>Buenos Aires</td>\n",
       "      <td>Quemaduras</td>\n",
       "      <td>2018-04-06</td>\n",
       "      <td>Friday</td>\n",
       "      <td>0-13</td>\n",
       "    </tr>\n",
       "    <tr>\n",
       "      <th>2</th>\n",
       "      <td>1108</td>\n",
       "      <td>31</td>\n",
       "      <td>Mujer</td>\n",
       "      <td>Principal</td>\n",
       "      <td>Buenos Aires</td>\n",
       "      <td>Quemaduras</td>\n",
       "      <td>2018-04-06</td>\n",
       "      <td>Friday</td>\n",
       "      <td>21-35</td>\n",
       "    </tr>\n",
       "    <tr>\n",
       "      <th>3</th>\n",
       "      <td>1107</td>\n",
       "      <td>22</td>\n",
       "      <td>Mujer</td>\n",
       "      <td>Principal</td>\n",
       "      <td>Chaco</td>\n",
       "      <td>Asfixia - Degollamiento</td>\n",
       "      <td>2018-04-15</td>\n",
       "      <td>Sunday</td>\n",
       "      <td>21-35</td>\n",
       "    </tr>\n",
       "    <tr>\n",
       "      <th>4</th>\n",
       "      <td>1107</td>\n",
       "      <td>18</td>\n",
       "      <td>Mujer</td>\n",
       "      <td>Principal</td>\n",
       "      <td>Chaco</td>\n",
       "      <td>Asfixia - Degollamiento</td>\n",
       "      <td>2018-04-15</td>\n",
       "      <td>Sunday</td>\n",
       "      <td>13-21</td>\n",
       "    </tr>\n",
       "  </tbody>\n",
       "</table>\n",
       "</div>"
      ],
      "text/plain": [
       "   Case  Age Gender identity Victim type      Province  \\\n",
       "0  1108    8           Mujer   Vinculado  Buenos Aires   \n",
       "1  1108   11           Mujer   Vinculado  Buenos Aires   \n",
       "2  1108   31           Mujer   Principal  Buenos Aires   \n",
       "3  1107   22           Mujer   Principal         Chaco   \n",
       "4  1107   18           Mujer   Principal         Chaco   \n",
       "\n",
       "               Murder type       Date Day of week Age range  \n",
       "0               Quemaduras 2018-04-06      Friday      0-13  \n",
       "1               Quemaduras 2018-04-06      Friday      0-13  \n",
       "2               Quemaduras 2018-04-06      Friday     21-35  \n",
       "3  Asfixia - Degollamiento 2018-04-15      Sunday     21-35  \n",
       "4  Asfixia - Degollamiento 2018-04-15      Sunday     13-21  "
      ]
     },
     "execution_count": 45,
     "metadata": {},
     "output_type": "execute_result"
    }
   ],
   "source": [
    "bins = [0, 13, 21, 35, 45, 65, 100]\n",
    "age_ranges = pd.cut(df['Age'], bins, labels=['0-13', '13-21', '21-35', '35-45', '45-65', '65+'])\n",
    "\n",
    "df['Age range'] = age_ranges\n",
    "df.head()"
   ]
  },
  {
   "cell_type": "markdown",
   "metadata": {},
   "source": [
    "## Converting some to categorycal data"
   ]
  },
  {
   "cell_type": "code",
   "execution_count": 46,
   "metadata": {},
   "outputs": [
    {
     "data": {
      "text/plain": [
       "7280"
      ]
     },
     "execution_count": 46,
     "metadata": {},
     "output_type": "execute_result"
    }
   ],
   "source": [
    "df['Victim type'].nbytes"
   ]
  },
  {
   "cell_type": "code",
   "execution_count": 47,
   "metadata": {},
   "outputs": [],
   "source": [
    "df['Victim type'] = df['Victim type'].astype('category')"
   ]
  },
  {
   "cell_type": "code",
   "execution_count": 48,
   "metadata": {},
   "outputs": [
    {
     "data": {
      "text/plain": [
       "926"
      ]
     },
     "execution_count": 48,
     "metadata": {},
     "output_type": "execute_result"
    }
   ],
   "source": [
    "df['Victim type'].nbytes"
   ]
  },
  {
   "cell_type": "code",
   "execution_count": 49,
   "metadata": {},
   "outputs": [
    {
     "data": {
      "text/plain": [
       "7280"
      ]
     },
     "execution_count": 49,
     "metadata": {},
     "output_type": "execute_result"
    }
   ],
   "source": [
    "df['Gender identity'].nbytes"
   ]
  },
  {
   "cell_type": "code",
   "execution_count": 50,
   "metadata": {},
   "outputs": [],
   "source": [
    "df['Gender identity'] = df['Gender identity'].astype('category')"
   ]
  },
  {
   "cell_type": "code",
   "execution_count": 51,
   "metadata": {},
   "outputs": [
    {
     "data": {
      "text/plain": [
       "958"
      ]
     },
     "execution_count": 51,
     "metadata": {},
     "output_type": "execute_result"
    }
   ],
   "source": [
    "df['Gender identity'].nbytes"
   ]
  },
  {
   "cell_type": "code",
   "execution_count": 52,
   "metadata": {},
   "outputs": [
    {
     "data": {
      "text/plain": [
       "958"
      ]
     },
     "execution_count": 52,
     "metadata": {},
     "output_type": "execute_result"
    }
   ],
   "source": [
    "df['Age range'].nbytes"
   ]
  },
  {
   "cell_type": "code",
   "execution_count": 53,
   "metadata": {},
   "outputs": [],
   "source": [
    "df['Age range'] = df['Age range'].astype('category')"
   ]
  },
  {
   "cell_type": "code",
   "execution_count": 54,
   "metadata": {},
   "outputs": [
    {
     "data": {
      "text/plain": [
       "958"
      ]
     },
     "execution_count": 54,
     "metadata": {},
     "output_type": "execute_result"
    }
   ],
   "source": [
    "df['Age range'].nbytes"
   ]
  },
  {
   "cell_type": "code",
   "execution_count": 55,
   "metadata": {},
   "outputs": [
    {
     "data": {
      "text/plain": [
       "7280"
      ]
     },
     "execution_count": 55,
     "metadata": {},
     "output_type": "execute_result"
    }
   ],
   "source": [
    "df['Day of week'].nbytes"
   ]
  },
  {
   "cell_type": "code",
   "execution_count": 56,
   "metadata": {},
   "outputs": [],
   "source": [
    "df['Day of week'] = df['Day of week'].astype('category')"
   ]
  },
  {
   "cell_type": "code",
   "execution_count": 57,
   "metadata": {},
   "outputs": [
    {
     "data": {
      "text/plain": [
       "966"
      ]
     },
     "execution_count": 57,
     "metadata": {},
     "output_type": "execute_result"
    }
   ],
   "source": [
    "df['Day of week'].nbytes"
   ]
  },
  {
   "cell_type": "code",
   "execution_count": 58,
   "metadata": {},
   "outputs": [
    {
     "data": {
      "text/html": [
       "<div>\n",
       "<style>\n",
       "    .dataframe thead tr:only-child th {\n",
       "        text-align: right;\n",
       "    }\n",
       "\n",
       "    .dataframe thead th {\n",
       "        text-align: left;\n",
       "    }\n",
       "\n",
       "    .dataframe tbody tr th {\n",
       "        vertical-align: top;\n",
       "    }\n",
       "</style>\n",
       "<table border=\"1\" class=\"dataframe\">\n",
       "  <thead>\n",
       "    <tr style=\"text-align: right;\">\n",
       "      <th></th>\n",
       "      <th>Case</th>\n",
       "      <th>Age</th>\n",
       "      <th>Gender identity</th>\n",
       "      <th>Victim type</th>\n",
       "      <th>Province</th>\n",
       "      <th>Murder type</th>\n",
       "      <th>Date</th>\n",
       "      <th>Day of week</th>\n",
       "      <th>Age range</th>\n",
       "    </tr>\n",
       "  </thead>\n",
       "  <tbody>\n",
       "    <tr>\n",
       "      <th>0</th>\n",
       "      <td>1108</td>\n",
       "      <td>8</td>\n",
       "      <td>Mujer</td>\n",
       "      <td>Vinculado</td>\n",
       "      <td>Buenos Aires</td>\n",
       "      <td>Quemaduras</td>\n",
       "      <td>2018-04-06</td>\n",
       "      <td>Friday</td>\n",
       "      <td>0-13</td>\n",
       "    </tr>\n",
       "    <tr>\n",
       "      <th>1</th>\n",
       "      <td>1108</td>\n",
       "      <td>11</td>\n",
       "      <td>Mujer</td>\n",
       "      <td>Vinculado</td>\n",
       "      <td>Buenos Aires</td>\n",
       "      <td>Quemaduras</td>\n",
       "      <td>2018-04-06</td>\n",
       "      <td>Friday</td>\n",
       "      <td>0-13</td>\n",
       "    </tr>\n",
       "    <tr>\n",
       "      <th>2</th>\n",
       "      <td>1108</td>\n",
       "      <td>31</td>\n",
       "      <td>Mujer</td>\n",
       "      <td>Principal</td>\n",
       "      <td>Buenos Aires</td>\n",
       "      <td>Quemaduras</td>\n",
       "      <td>2018-04-06</td>\n",
       "      <td>Friday</td>\n",
       "      <td>21-35</td>\n",
       "    </tr>\n",
       "    <tr>\n",
       "      <th>3</th>\n",
       "      <td>1107</td>\n",
       "      <td>22</td>\n",
       "      <td>Mujer</td>\n",
       "      <td>Principal</td>\n",
       "      <td>Chaco</td>\n",
       "      <td>Asfixia - Degollamiento</td>\n",
       "      <td>2018-04-15</td>\n",
       "      <td>Sunday</td>\n",
       "      <td>21-35</td>\n",
       "    </tr>\n",
       "    <tr>\n",
       "      <th>4</th>\n",
       "      <td>1107</td>\n",
       "      <td>18</td>\n",
       "      <td>Mujer</td>\n",
       "      <td>Principal</td>\n",
       "      <td>Chaco</td>\n",
       "      <td>Asfixia - Degollamiento</td>\n",
       "      <td>2018-04-15</td>\n",
       "      <td>Sunday</td>\n",
       "      <td>13-21</td>\n",
       "    </tr>\n",
       "  </tbody>\n",
       "</table>\n",
       "</div>"
      ],
      "text/plain": [
       "   Case  Age Gender identity Victim type      Province  \\\n",
       "0  1108    8           Mujer   Vinculado  Buenos Aires   \n",
       "1  1108   11           Mujer   Vinculado  Buenos Aires   \n",
       "2  1108   31           Mujer   Principal  Buenos Aires   \n",
       "3  1107   22           Mujer   Principal         Chaco   \n",
       "4  1107   18           Mujer   Principal         Chaco   \n",
       "\n",
       "               Murder type       Date Day of week Age range  \n",
       "0               Quemaduras 2018-04-06      Friday      0-13  \n",
       "1               Quemaduras 2018-04-06      Friday      0-13  \n",
       "2               Quemaduras 2018-04-06      Friday     21-35  \n",
       "3  Asfixia - Degollamiento 2018-04-15      Sunday     21-35  \n",
       "4  Asfixia - Degollamiento 2018-04-15      Sunday     13-21  "
      ]
     },
     "execution_count": 58,
     "metadata": {},
     "output_type": "execute_result"
    }
   ],
   "source": [
    "df.head()"
   ]
  },
  {
   "cell_type": "markdown",
   "metadata": {},
   "source": [
    "## Some info"
   ]
  },
  {
   "cell_type": "code",
   "execution_count": 59,
   "metadata": {
    "scrolled": true
   },
   "outputs": [
    {
     "data": {
      "text/plain": [
       "(910, 9)"
      ]
     },
     "execution_count": 59,
     "metadata": {},
     "output_type": "execute_result"
    }
   ],
   "source": [
    "df.shape"
   ]
  },
  {
   "cell_type": "code",
   "execution_count": 60,
   "metadata": {
    "scrolled": true
   },
   "outputs": [
    {
     "data": {
      "text/plain": [
       "array([1108, 1107, 1106, 1105, 1104, 1103, 1102, 1101, 1100, 1098, 1097,\n",
       "       1096, 1094, 1092, 1091, 1090, 1089, 1088, 1087, 1086, 1085, 1084,\n",
       "       1083, 1082, 1081, 1080, 1079, 1078, 1077, 1076, 1074, 1073, 1072,\n",
       "       1071, 1070, 1068, 1067, 1066, 1065, 1064, 1061, 1062, 1060, 1059,\n",
       "       1058, 1057, 1055, 1054, 1053, 1052, 1051, 1050, 1049, 1048, 1047,\n",
       "       1046, 1045, 1044, 1043, 1042, 1041, 1039, 1038, 1037, 1036, 1035,\n",
       "       1034, 1033, 1032, 1031, 1030, 1028, 1027, 1026, 1025, 1024, 1023,\n",
       "       1022, 1020, 1021, 1019, 1018, 1017, 1016, 1015, 1014, 1013, 1012,\n",
       "       1011, 1010, 1009, 1008, 1007, 1006, 1005, 1004, 1003, 1002, 1001,\n",
       "       1000,  999,  998,  997,  996,  995,  994,  993,  992,  991,  990,\n",
       "        989,  978,  987,  986,  985,  984,  983,  982,  981,  980,  979,\n",
       "        977,  976,  975,  974,  973,  972,  971,  970,  969,  967,  966,\n",
       "        965,  964,  962,  961,  959,  958,  957,  956,  955,  954,  953,\n",
       "        952,  951,  950,  947,  946,  944,  943,  942,  941,  940,  937,\n",
       "        936,  935,  934,  933,  932,  930,  927,  928,  926,  925,  924,\n",
       "        922,  921,  919,  918,  917,  916,  914,  912,  911,  910,  909,\n",
       "        907,  906,  905,  904,  903,  902,  901,  899,  898,  897,  896,\n",
       "        895,  894,  893,  892,  891,  890,  889,  888,  887,  886,  885,\n",
       "        884,  883,  882,  881,  880,  876,  875,  874,  873,  872,  871,\n",
       "        870,  867,  866,  865,  864,  860,  859,  858,  857,  856,  855,\n",
       "        854,  853,  852,  847,  846,  845,  843,  844,  842,  841,  840,\n",
       "        839,  837,  836,  835,  834,  833,  831,  830,  829,  828,  827,\n",
       "        826,  825,  824,  823,  822,  821,  820,  819,  818,  813,  811,\n",
       "        809,  808,  806,  805,  804,  803,  802,  801,  800,  799,  798,\n",
       "        796,  795,  793,  792,  791,  790,  788,  787,  785,  784,  783,\n",
       "        781,  780,  779,  778,  777,  776,  775,  774,  773,  758,  770,\n",
       "        767,  766,  765,  764,  763,  762,  761,  760,  759,  757,  756,\n",
       "        755,  754,  753,  752,  751,  750,  749,  748,  747,  746,  745,\n",
       "        744,  743,  741,  740,  739,  738,  737,  736,  735,  733,  732,\n",
       "        731,  730,  729,   40,  728,  727,  726,  725,  724,  722,  720,\n",
       "        719,  718,  717,  716,  715,  714,  713,  712,  711,  710,  708,\n",
       "        707,  705,  704,  703,  702,  701,  700,  699,  698,  696,  694,\n",
       "        693,  692,  691,  690,  689,  688,  687,  686,  685,  684,  683,\n",
       "        682,  681,  680,  679,  678,  677,  676,  675,  674,  673,  671,\n",
       "        670,  669,  668,  667,  666,  665,  664,  663,  662,  661,  660,\n",
       "        659,  658,  657,  656,  655,  654,  653,  652,  650,  649,  648,\n",
       "        647,  646,  643,  642,  641,  640,  638,  637,  635,  634,  633,\n",
       "        631,  630,  629,  628,  627,  626,  625,  624,  622,  621,  620,\n",
       "        619,  618,  617,  616,  615,  614,  613,  611,  610,  609,  608,\n",
       "        607,  606,  605,  604,  603,  602,  600,  599,  598,  597,  596,\n",
       "        595,  594,  593,  592,  591,  590,  589,  588,  587,  586,  585,\n",
       "        584,  582,  581,  580,  579,  578,  577,  576,  574,  573,  571,\n",
       "        570,  569,  568,  567,  566,  565,  564,  562,  561,  560,  559,\n",
       "        558,  557,  556,  555,  553,  552,  551,  550,  549,  548,  547,\n",
       "        546,  545,  544,  542,  541,  540,  192,  166,   56,    1,   77,\n",
       "         24,   23,   72,   55,   48,  539,   28,  538,  537,  536,  535,\n",
       "        533,  532,  530,  525,  524,  523,  521,  520,  516,  515,  514,\n",
       "        513,  509,  508,  507,  506,  503,  502,  497,  495,  494,  493,\n",
       "        492,  491,  490,  487,  486,  484,  483,  482,  481,  480,  479,\n",
       "        475,  474,  473,  472,  471,  469,  468,  467,  465,  464,  462,\n",
       "        461,  460,  459,  458,  456,  455,  454,  453,  451,  450,  449,\n",
       "        443,  448,  447,  446,  445,  444,  440,  439,  438,  435,  433,\n",
       "        431,  429,  427,  424,  423,  421,  420,  416,  415,  414,  413,\n",
       "        412,  411,  409,  407,  406,  405,  404,  403,  402,  401,  400,\n",
       "        399,  398,  397,  395,  392,  391,  388,  382,  381,  379,  378,\n",
       "        377,  376,  375,  374,   69,  373,  372,  371,  369,  368,  367,\n",
       "        366,  365,  364,  363,  362,  361,  359,  358,  354,  351,  350,\n",
       "        349,  348,  347,  345,  344,  341,  340,  339,  338,  336,  335,\n",
       "        334,  333,  332,  331,  330,  327,  326,  325,  324,  323,  322,\n",
       "        321,  319,  315,  314,  313,  312,  311,  310,  309,  308,  307,\n",
       "        303,  302,  300,  299,  298,  297,  296,  295,  294,  293,  292,\n",
       "        289,  288,  287,  286,  282,  281,  279,  277,  273,  276,  275,\n",
       "        274,  272,  271,  270,  268,  269,  267,  265,  266,  261,  260,\n",
       "        259,  258,  257,  256,  255,  254,  253,  252,  251,  250,  249,\n",
       "        248,  247,  246,  243,  240,  242,  239,  238,  237,  235,  234,\n",
       "        233,  232,  231,  230,  229,  228,  227,  226,  224,  222,  221,\n",
       "        220,  219,  217,  216,  214,  213,  212,  211,  209,  208,  206,\n",
       "        204,  205,  203,  202,  201,  200,  199,  198,  196,  193,  191,\n",
       "        189,  188,  187,  186,  184,  183,  182,  180,  179,  178,  176,\n",
       "        172,  171,  169,  165,  164,  163,  161,  160,  159,  157,  140,\n",
       "        152,  151,  150,  149,  148,  147,  146,  145,  144,  143,  142,\n",
       "        141,  139,  138,  130,  129,  126,  127,  125,  124,  123,  122,\n",
       "        119,  118,  117,  113,  112,  111,  110,  109,  108,  107,  105,\n",
       "        104,  102,  100,   98,   97,   96,   95,   94,   89,   88,   86,\n",
       "         85,   84,   81,   80,   78,   73,   67,   62,   53,   51,   47,\n",
       "         45,   42,   38,   37,   36,   31,   27,   21,   20,   19,   13,\n",
       "         12,   11,    9,    8,    7,    5,    4,    3,    2])"
      ]
     },
     "execution_count": 60,
     "metadata": {},
     "output_type": "execute_result"
    }
   ],
   "source": [
    "df['Case'].unique()"
   ]
  },
  {
   "cell_type": "code",
   "execution_count": 61,
   "metadata": {
    "scrolled": false
   },
   "outputs": [
    {
     "data": {
      "text/plain": [
       "Case\n",
       "1       1\n",
       "2       1\n",
       "3       1\n",
       "4       1\n",
       "5       1\n",
       "7       1\n",
       "8       1\n",
       "9       1\n",
       "11      1\n",
       "12      1\n",
       "13      1\n",
       "19      1\n",
       "20      1\n",
       "21      1\n",
       "23      1\n",
       "24      1\n",
       "27      1\n",
       "28      1\n",
       "31      1\n",
       "36      1\n",
       "37      1\n",
       "38      1\n",
       "40      1\n",
       "42      1\n",
       "45      1\n",
       "47      1\n",
       "48      1\n",
       "51      1\n",
       "53      1\n",
       "55      1\n",
       "       ..\n",
       "1076    1\n",
       "1077    1\n",
       "1078    1\n",
       "1079    2\n",
       "1080    1\n",
       "1081    1\n",
       "1082    1\n",
       "1083    1\n",
       "1084    1\n",
       "1085    1\n",
       "1086    1\n",
       "1087    2\n",
       "1088    1\n",
       "1089    1\n",
       "1090    1\n",
       "1091    1\n",
       "1092    1\n",
       "1094    1\n",
       "1096    1\n",
       "1097    1\n",
       "1098    1\n",
       "1100    1\n",
       "1101    1\n",
       "1102    1\n",
       "1103    1\n",
       "1104    1\n",
       "1105    1\n",
       "1106    1\n",
       "1107    1\n",
       "1108    2\n",
       "Name: Victim type, Length: 845, dtype: int64"
      ]
     },
     "execution_count": 61,
     "metadata": {},
     "output_type": "execute_result"
    }
   ],
   "source": [
    "victims_by_case = df.groupby('Case')\n",
    "victims_by_case['Victim type'].nunique()"
   ]
  },
  {
   "cell_type": "markdown",
   "metadata": {},
   "source": [
    "## Visualization"
   ]
  },
  {
   "cell_type": "markdown",
   "metadata": {},
   "source": [
    "### 1 variable"
   ]
  },
  {
   "cell_type": "markdown",
   "metadata": {},
   "source": [
    "#### Cases per Gender"
   ]
  },
  {
   "cell_type": "code",
   "execution_count": 67,
   "metadata": {
    "scrolled": true
   },
   "outputs": [
    {
     "data": {
      "text/plain": [
       "<matplotlib.axes._subplots.AxesSubplot at 0x7f5e2e974fd0>"
      ]
     },
     "execution_count": 67,
     "metadata": {},
     "output_type": "execute_result"
    },
    {
     "data": {
      "image/png": "[encoded data removed]",
      "text/plain": [
       "<matplotlib.figure.Figure at 0x7f5e2edf29b0>"
      ]
     },
     "metadata": {},
     "output_type": "display_data"
    }
   ],
   "source": [
    "sns.countplot(x='Gender identity', data=df)"
   ]
  },
  {
   "cell_type": "markdown",
   "metadata": {},
   "source": [
    "#### Cases per Age"
   ]
  },
  {
   "cell_type": "code",
   "execution_count": 69,
   "metadata": {},
   "outputs": [
    {
     "data": {
      "text/plain": [
       "<matplotlib.axes._subplots.AxesSubplot at 0x7f5e30318160>"
      ]
     },
     "execution_count": 69,
     "metadata": {},
     "output_type": "execute_result"
    },
    {
     "data": {
      "image/png": "[encoded data removed]",
      "text/plain": [
       "<matplotlib.figure.Figure at 0x7f5e2e8b37f0>"
      ]
     },
     "metadata": {},
     "output_type": "display_data"
    }
   ],
   "source": [
    "sns.boxplot(data=df, x='Age')"
   ]
  },
  {
   "cell_type": "code",
   "execution_count": 95,
   "metadata": {
    "scrolled": true
   },
   "outputs": [
    {
     "data": {
      "text/plain": [
       "<matplotlib.axes._subplots.AxesSubplot at 0x7f5e2dcf4d30>"
      ]
     },
     "execution_count": 95,
     "metadata": {},
     "output_type": "execute_result"
    },
    {
     "data": {
      "image/png": "[encoded data removed]",
      "text/plain": [
       "<matplotlib.figure.Figure at 0x7f5e2dcd0390>"
      ]
     },
     "metadata": {},
     "output_type": "display_data"
    }
   ],
   "source": [
    "sns.countplot(x='Age range', data=df)"
   ]
  },
  {
   "cell_type": "markdown",
   "metadata": {},
   "source": [
    "#### Cases per Victim type"
   ]
  },
  {
   "cell_type": "code",
   "execution_count": 100,
   "metadata": {},
   "outputs": [
    {
     "data": {
      "text/plain": [
       "<matplotlib.axes._subplots.AxesSubplot at 0x7f5e2d4db898>"
      ]
     },
     "execution_count": 100,
     "metadata": {},
     "output_type": "execute_result"
    },
    {
     "data": {
      "image/png": "[encoded data removed]",
      "text/plain": [
       "<matplotlib.figure.Figure at 0x7f5e2d888e10>"
      ]
     },
     "metadata": {},
     "output_type": "display_data"
    }
   ],
   "source": [
    "sns.countplot(x='Victim type', data=df)"
   ]
  },
  {
   "cell_type": "markdown",
   "metadata": {},
   "source": [
    "#### Cases per year / month / day"
   ]
  },
  {
   "cell_type": "code",
   "execution_count": 104,
   "metadata": {},
   "outputs": [
    {
     "name": "stdout",
     "output_type": "stream",
     "text": [
      "     Case  Age Gender identity Victim type                Province  \\\n",
      "33   1078   49           Mujer   Principal                Santa Fe   \n",
      "36   1074   52           Mujer   Principal              Santa Cruz   \n",
      "41   1068   26           Mujer   Principal            Buenos Aires   \n",
      "43   1066   26           Mujer   Principal                   Salta   \n",
      "44   1065   50           Mujer   Principal              Corrientes   \n",
      "46   1064   32           Mujer   Vinculado                Santa Fe   \n",
      "47   1064   20          Hombre   Vinculado                Santa Fe   \n",
      "48   1064   19           Mujer   Vinculado                Santa Fe   \n",
      "49   1064   35           Mujer   Principal                Santa Fe   \n",
      "51   1061   35           Mujer   Principal                   Jujuy   \n",
      "53   1060   18           Mujer   Principal                Santa Fe   \n",
      "54   1059   21           Mujer   Principal     Santiago del Estero   \n",
      "56   1057   41           Mujer   Principal                   Chaco   \n",
      "57   1055   53           Mujer   Principal                 Córdoba   \n",
      "59   1053   24           Mujer   Principal                   Salta   \n",
      "62   1050   25           Mujer   Principal                   Chaco   \n",
      "63   1049   52           Mujer   Principal  Ciudad de Buenos Aires   \n",
      "64   1048   17           Mujer   Principal                   Salta   \n",
      "65   1047   20           Mujer   Principal                 Tucuman   \n",
      "67   1045   74           Mujer   Principal            Buenos Aires   \n",
      "68   1044   42           Mujer   Principal                 Córdoba   \n",
      "69   1043   42           Mujer   Principal            Buenos Aires   \n",
      "70   1042   43           Mujer   Principal                Misiones   \n",
      "71   1041   64           Mujer   Principal            Buenos Aires   \n",
      "73   1039   26           Mujer   Principal                Misiones   \n",
      "74   1038   32           Mujer   Principal            Buenos Aires   \n",
      "75   1037   20           Mujer   Principal                 Córdoba   \n",
      "76   1036    1          Hombre   Vinculado               Catamarca   \n",
      "77   1036   22           Mujer   Principal               Catamarca   \n",
      "78   1035   75           Mujer   Principal            Buenos Aires   \n",
      "..    ...  ...             ...         ...                     ...   \n",
      "269   835   30           Mujer   Principal                   Jujuy   \n",
      "270   834   31           Mujer   Principal                 Mendoza   \n",
      "271   833   27           Mujer   Principal            Buenos Aires   \n",
      "272   831   42           Mujer   Principal            Buenos Aires   \n",
      "273   830   16           Mujer   Vinculado            Buenos Aires   \n",
      "274   830   17           Mujer   Principal            Buenos Aires   \n",
      "275   829   42           Mujer   Principal            Buenos Aires   \n",
      "276   828   40           Mujer   Principal              Corrientes   \n",
      "278   826   15           Mujer   Principal            Buenos Aires   \n",
      "279   826   50           Mujer   Principal            Buenos Aires   \n",
      "280   825   55           Mujer   Vinculado            Buenos Aires   \n",
      "281   825   34          Hombre   Vinculado            Buenos Aires   \n",
      "282   825   32          Hombre   Vinculado            Buenos Aires   \n",
      "283   825   32           Mujer   Vinculado            Buenos Aires   \n",
      "284   825   32           Mujer   Principal            Buenos Aires   \n",
      "285   824   32           Mujer   Principal                Santa Fe   \n",
      "286   823   44           Mujer   Principal                   Salta   \n",
      "287   822   28           Mujer   Principal                 Tucuman   \n",
      "288   821   26           Mujer   Principal                   Salta   \n",
      "289   820   28           Mujer   Principal                  Chubut   \n",
      "290   819   53           Mujer   Principal            Buenos Aires   \n",
      "291   818   28           Mujer   Principal                   Salta   \n",
      "292   813   25           Mujer   Principal            Buenos Aires   \n",
      "294   811   25           Mujer   Principal            Buenos Aires   \n",
      "297   808   34           Mujer   Principal                 Córdoba   \n",
      "298   806   18           Mujer   Principal            Buenos Aires   \n",
      "299   805   23           Mujer   Principal            Buenos Aires   \n",
      "301   803   35           Mujer   Principal                   Salta   \n",
      "302   802   42           Mujer   Principal            Buenos Aires   \n",
      "303   801   18           Mujer   Principal                   Salta   \n",
      "\n",
      "                           Murder type       Date Day of week Age range  \n",
      "33                               Otros 2017-12-28    Thursday     45-65  \n",
      "36                    Estrangulamiento 2017-05-05      Friday     45-65  \n",
      "41                     Disparo De Bala 2017-03-07     Tuesday     21-35  \n",
      "43                              Golpes 2017-12-17      Sunday     21-35  \n",
      "44                      Golpes - Otros 2017-12-24      Sunday     45-65  \n",
      "46                     Disparo De Bala 2017-12-29      Friday     21-35  \n",
      "47                     Disparo De Bala 2017-12-29      Friday     13-21  \n",
      "48                     Disparo De Bala 2017-12-29      Friday     13-21  \n",
      "49                     Disparo De Bala 2017-12-29      Friday     21-35  \n",
      "51                          Quemaduras 2017-11-21     Tuesday     21-35  \n",
      "53                          Quemaduras 2017-12-25      Monday     13-21  \n",
      "54                        Ahorcamiento 2017-09-12     Tuesday     13-21  \n",
      "56                     Disparo De Bala 2017-12-13   Wednesday     35-45  \n",
      "57                     Disparo De Bala 2017-12-25      Monday     45-65  \n",
      "59                     Acuchillamiento 2017-12-18      Monday     21-35  \n",
      "62                     Acuchillamiento 2017-09-23    Saturday     21-35  \n",
      "63                    Estrangulamiento 2017-12-19     Tuesday     45-65  \n",
      "64                    Golpes - Asfixia 2017-12-07    Thursday     13-21  \n",
      "65                          Quemaduras 2017-12-08      Friday     13-21  \n",
      "67                     Disparo De Bala 2017-09-20   Wednesday       65+  \n",
      "68                     Disparo De Bala 2017-12-19     Tuesday     35-45  \n",
      "69                             Asfixia 2017-12-08      Friday     35-45  \n",
      "70                     Disparo De Bala 2017-12-09    Saturday     35-45  \n",
      "71                     Acuchillamiento 2017-12-08      Friday     45-65  \n",
      "73                             Asfixia 2017-12-02    Saturday     21-35  \n",
      "74                     Acuchillamiento 2017-12-11      Monday     21-35  \n",
      "75                     Disparo De Bala 2017-12-08      Friday     13-21  \n",
      "76                          Quemaduras 2017-11-27      Monday      0-13  \n",
      "77                          Quemaduras 2017-11-27      Monday     21-35  \n",
      "78                     Acuchillamiento 2017-12-06   Wednesday       65+  \n",
      "..                                 ...        ...         ...       ...  \n",
      "269                      Degollamiento 2017-02-15   Wednesday     21-35  \n",
      "270                             Golpes 2017-02-15   Wednesday     21-35  \n",
      "271                    Acuchillamiento 2017-02-17      Friday     21-35  \n",
      "272           Golpes - Acuchillamiento 2017-02-11    Saturday     35-45  \n",
      "273                    Disparo De Bala 2017-02-12      Sunday     13-21  \n",
      "274                    Disparo De Bala 2017-02-12      Sunday     13-21  \n",
      "275                             Golpes 2017-02-12      Sunday     35-45  \n",
      "276                         Quemaduras 2017-02-01   Wednesday     35-45  \n",
      "278                    Acuchillamiento 2017-02-03      Friday     13-21  \n",
      "279                    Acuchillamiento 2017-02-03      Friday     45-65  \n",
      "280  Disparo De Bala - Disparo De Bala 2017-02-05      Sunday     45-65  \n",
      "281  Disparo De Bala - Disparo De Bala 2017-02-05      Sunday     21-35  \n",
      "282  Disparo De Bala - Disparo De Bala 2017-02-05      Sunday     21-35  \n",
      "283  Disparo De Bala - Disparo De Bala 2017-02-05      Sunday     21-35  \n",
      "284  Disparo De Bala - Disparo De Bala 2017-02-05      Sunday     21-35  \n",
      "285                             Golpes 2017-02-06      Monday     21-35  \n",
      "286                    Acuchillamiento 2017-01-27      Friday     35-45  \n",
      "287                      Apuñalamiento 2017-02-04    Saturday     21-35  \n",
      "288                    Acuchillamiento 2017-02-01   Wednesday     21-35  \n",
      "289                             Golpes 2017-01-27      Friday     21-35  \n",
      "290                    Acuchillamiento 2017-01-25   Wednesday     45-65  \n",
      "291                         Quemaduras 2017-01-22      Sunday     21-35  \n",
      "292                    Acuchillamiento 2017-01-20      Friday     21-35  \n",
      "294                    Disparo De Bala 2017-01-16      Monday     21-35  \n",
      "297                    Acuchillamiento 2017-01-15      Sunday     21-35  \n",
      "298                    Disparo De Bala 2017-01-12    Thursday     13-21  \n",
      "299                    Disparo De Bala 2017-01-09      Monday     21-35  \n",
      "301                   Estrangulamiento 2017-01-06      Friday     21-35  \n",
      "302                             Golpes 2017-01-04   Wednesday     35-45  \n",
      "303     Acuchillamiento - Ahorcamiento 2017-01-05    Thursday     13-21  \n",
      "\n",
      "[214 rows x 9 columns]\n"
     ]
    }
   ],
   "source": [
    "2017 = (df['Date']>'2017-01-01') & (df['Date']<='2017-12-31')\n",
    "print(df.loc[per_year])"
   ]
  },
  {
   "cell_type": "markdown",
   "metadata": {},
   "source": [
    "#### Cases per Day of week"
   ]
  },
  {
   "cell_type": "code",
   "execution_count": 71,
   "metadata": {
    "scrolled": false
   },
   "outputs": [
    {
     "data": {
      "text/plain": [
       "<matplotlib.axes._subplots.AxesSubplot at 0x7f5e2e1d11d0>"
      ]
     },
     "execution_count": 71,
     "metadata": {},
     "output_type": "execute_result"
    },
    {
     "data": {
      "image/png": "[encoded data removed]",
      "text/plain": [
       "<matplotlib.figure.Figure at 0x7f5e2f4c74a8>"
      ]
     },
     "metadata": {},
     "output_type": "display_data"
    }
   ],
   "source": [
    "sns.countplot(x='Day of week', data=df)\n",
    "dayWeek = sorted(dayWeek, key=k.index)\n",
    "# don't know how to order the days (like the logical order we know)"
   ]
  },
  {
   "cell_type": "markdown",
   "metadata": {},
   "source": [
    "### 2 variables"
   ]
  },
  {
   "cell_type": "markdown",
   "metadata": {},
   "source": [
    "#### Cases by age per Province"
   ]
  },
  {
   "cell_type": "code",
   "execution_count": 110,
   "metadata": {},
   "outputs": [
    {
     "data": {
      "text/html": [
       "<div>\n",
       "<style>\n",
       "    .dataframe thead tr:only-child th {\n",
       "        text-align: right;\n",
       "    }\n",
       "\n",
       "    .dataframe thead th {\n",
       "        text-align: left;\n",
       "    }\n",
       "\n",
       "    .dataframe tbody tr th {\n",
       "        vertical-align: top;\n",
       "    }\n",
       "</style>\n",
       "<table border=\"1\" class=\"dataframe\">\n",
       "  <thead>\n",
       "    <tr style=\"text-align: right;\">\n",
       "      <th></th>\n",
       "      <th>Age range</th>\n",
       "    </tr>\n",
       "    <tr>\n",
       "      <th>Province</th>\n",
       "      <th></th>\n",
       "    </tr>\n",
       "  </thead>\n",
       "  <tbody>\n",
       "    <tr>\n",
       "      <th>Buenos Aires</th>\n",
       "      <td>274</td>\n",
       "    </tr>\n",
       "    <tr>\n",
       "      <th>Catamarca</th>\n",
       "      <td>11</td>\n",
       "    </tr>\n",
       "    <tr>\n",
       "      <th>Chaco</th>\n",
       "      <td>38</td>\n",
       "    </tr>\n",
       "    <tr>\n",
       "      <th>Chubut</th>\n",
       "      <td>16</td>\n",
       "    </tr>\n",
       "    <tr>\n",
       "      <th>Ciudad de Buenos Aires</th>\n",
       "      <td>35</td>\n",
       "    </tr>\n",
       "    <tr>\n",
       "      <th>Corrientes</th>\n",
       "      <td>21</td>\n",
       "    </tr>\n",
       "    <tr>\n",
       "      <th>Córdoba</th>\n",
       "      <td>91</td>\n",
       "    </tr>\n",
       "    <tr>\n",
       "      <th>Entre Rios</th>\n",
       "      <td>40</td>\n",
       "    </tr>\n",
       "    <tr>\n",
       "      <th>Formosa</th>\n",
       "      <td>8</td>\n",
       "    </tr>\n",
       "    <tr>\n",
       "      <th>Jujuy</th>\n",
       "      <td>22</td>\n",
       "    </tr>\n",
       "    <tr>\n",
       "      <th>La Pampa</th>\n",
       "      <td>5</td>\n",
       "    </tr>\n",
       "    <tr>\n",
       "      <th>La Rioja</th>\n",
       "      <td>4</td>\n",
       "    </tr>\n",
       "    <tr>\n",
       "      <th>Mendoza</th>\n",
       "      <td>41</td>\n",
       "    </tr>\n",
       "    <tr>\n",
       "      <th>Misiones</th>\n",
       "      <td>36</td>\n",
       "    </tr>\n",
       "    <tr>\n",
       "      <th>Neuquen</th>\n",
       "      <td>21</td>\n",
       "    </tr>\n",
       "    <tr>\n",
       "      <th>Rio Negro</th>\n",
       "      <td>10</td>\n",
       "    </tr>\n",
       "    <tr>\n",
       "      <th>Salta</th>\n",
       "      <td>51</td>\n",
       "    </tr>\n",
       "    <tr>\n",
       "      <th>San Juan</th>\n",
       "      <td>6</td>\n",
       "    </tr>\n",
       "    <tr>\n",
       "      <th>San Luis</th>\n",
       "      <td>11</td>\n",
       "    </tr>\n",
       "    <tr>\n",
       "      <th>Santa Cruz</th>\n",
       "      <td>6</td>\n",
       "    </tr>\n",
       "    <tr>\n",
       "      <th>Santa Fe</th>\n",
       "      <td>68</td>\n",
       "    </tr>\n",
       "    <tr>\n",
       "      <th>Santiago del Estero</th>\n",
       "      <td>47</td>\n",
       "    </tr>\n",
       "    <tr>\n",
       "      <th>Sin datos</th>\n",
       "      <td>22</td>\n",
       "    </tr>\n",
       "    <tr>\n",
       "      <th>Tierra del Fuego</th>\n",
       "      <td>3</td>\n",
       "    </tr>\n",
       "    <tr>\n",
       "      <th>Tucuman</th>\n",
       "      <td>21</td>\n",
       "    </tr>\n",
       "  </tbody>\n",
       "</table>\n",
       "</div>"
      ],
      "text/plain": [
       "                        Age range\n",
       "Province                         \n",
       "Buenos Aires                  274\n",
       "Catamarca                      11\n",
       "Chaco                          38\n",
       "Chubut                         16\n",
       "Ciudad de Buenos Aires         35\n",
       "Corrientes                     21\n",
       "Córdoba                        91\n",
       "Entre Rios                     40\n",
       "Formosa                         8\n",
       "Jujuy                          22\n",
       "La Pampa                        5\n",
       "La Rioja                        4\n",
       "Mendoza                        41\n",
       "Misiones                       36\n",
       "Neuquen                        21\n",
       "Rio Negro                      10\n",
       "Salta                          51\n",
       "San Juan                        6\n",
       "San Luis                       11\n",
       "Santa Cruz                      6\n",
       "Santa Fe                       68\n",
       "Santiago del Estero            47\n",
       "Sin datos                      22\n",
       "Tierra del Fuego                3\n",
       "Tucuman                        21"
      ]
     },
     "execution_count": 110,
     "metadata": {},
     "output_type": "execute_result"
    }
   ],
   "source": [
    "df2 = df.groupby(['Province'])[['Age range']].count()\n",
    "df2"
   ]
  },
  {
   "cell_type": "markdown",
   "metadata": {},
   "source": [
    "#### Amount by Gender per Province"
   ]
  },
  {
   "cell_type": "code",
   "execution_count": null,
   "metadata": {},
   "outputs": [],
   "source": [
    "df2 = df.groupby(['Province', 'Gender identity'])[['Gender identity']].count()\n",
    "df2"
   ]
  },
  {
   "cell_type": "markdown",
   "metadata": {},
   "source": [
    "#### Gender by Province"
   ]
  },
  {
   "cell_type": "code",
   "execution_count": null,
   "metadata": {},
   "outputs": [],
   "source": [
    "sns.countplot(x='Province', hue='Gender identity', data=df)\n",
    "# Rotate x-labels\n",
    "plt.xticks(rotation=-45)\n",
    "# Can this be done by province?"
   ]
  },
  {
   "cell_type": "code",
   "execution_count": null,
   "metadata": {},
   "outputs": [],
   "source": [
    "sns.factorplot(\"Gender identity\", col=\"Age range\", hue='Gender identity', col_wrap=3, kind=\"count\", data=df)\n",
    "plt.xticks(rotation=45)"
   ]
  },
  {
   "cell_type": "code",
   "execution_count": null,
   "metadata": {},
   "outputs": [],
   "source": []
  },
  {
   "cell_type": "markdown",
   "metadata": {},
   "source": [
    "#### Amount of Victim types per Day of Week"
   ]
  },
  {
   "cell_type": "code",
   "execution_count": 97,
   "metadata": {},
   "outputs": [
    {
     "data": {
      "text/plain": [
       "(array([0, 1, 2, 3, 4, 5, 6]), <a list of 7 Text xticklabel objects>)"
      ]
     },
     "execution_count": 97,
     "metadata": {},
     "output_type": "execute_result"
    },
    {
     "data": {
      "image/png": "[encoded data removed]",
      "text/plain": [
       "<matplotlib.figure.Figure at 0x7f5e2e1e2ba8>"
      ]
     },
     "metadata": {},
     "output_type": "display_data"
    }
   ],
   "source": [
    "group_by_victim_type = df.groupby(['Day of week', 'Victim type']).size().unstack()\n",
    "group_by_victim_type.plot(kind='bar')\n",
    "plt.xticks(rotation='horizontal')"
   ]
  },
  {
   "cell_type": "markdown",
   "metadata": {},
   "source": [
    "#### Victim types per Age"
   ]
  },
  {
   "cell_type": "code",
   "execution_count": null,
   "metadata": {},
   "outputs": [],
   "source": []
  },
  {
   "cell_type": "markdown",
   "metadata": {},
   "source": [
    "#### Amount of Victim types per gender"
   ]
  },
  {
   "cell_type": "code",
   "execution_count": null,
   "metadata": {},
   "outputs": [],
   "source": []
  },
  {
   "cell_type": "markdown",
   "metadata": {},
   "source": [
    "#### Amount of Victim types per Province"
   ]
  },
  {
   "cell_type": "code",
   "execution_count": 109,
   "metadata": {},
   "outputs": [
    {
     "data": {
      "text/plain": [
       "<matplotlib.axes._subplots.AxesSubplot at 0x7f5e2c879a58>"
      ]
     },
     "execution_count": 109,
     "metadata": {},
     "output_type": "execute_result"
    },
    {
     "data": {
      "image/png": "[encoded data removed]",
      "text/plain": [
       "<matplotlib.figure.Figure at 0x7f5e2d19bcf8>"
      ]
     },
     "metadata": {},
     "output_type": "display_data"
    }
   ],
   "source": [
    "group_by_victim_type = df.groupby(['Province', 'Victim type']).size().unstack()\n",
    "group_by_victim_type.plot(kind='barh')"
   ]
  },
  {
   "cell_type": "markdown",
   "metadata": {},
   "source": [
    "#### Amount of cases by Age per Day of week"
   ]
  },
  {
   "cell_type": "code",
   "execution_count": 73,
   "metadata": {},
   "outputs": [
    {
     "data": {
      "text/plain": [
       "(array([0, 1, 2, 3, 4, 5, 6]), <a list of 7 Text xticklabel objects>)"
      ]
     },
     "execution_count": 73,
     "metadata": {},
     "output_type": "execute_result"
    },
    {
     "data": {
      "image/png": "[encoded data removed]",
      "text/plain": [
       "<matplotlib.figure.Figure at 0x7f5e2e12ff60>"
      ]
     },
     "metadata": {},
     "output_type": "display_data"
    }
   ],
   "source": [
    "group_by_age_day = df.groupby(['Day of week', 'Age range']).size().unstack()\n",
    "group_by_age_day.plot(kind='bar')\n",
    "plt.xticks(rotation='horizontal')"
   ]
  },
  {
   "cell_type": "code",
   "execution_count": 74,
   "metadata": {},
   "outputs": [
    {
     "ename": "NameError",
     "evalue": "name 'kind' is not defined",
     "output_type": "error",
     "traceback": [
      "\u001b[0;31m---------------------------------------------------------------------------\u001b[0m",
      "\u001b[0;31mNameError\u001b[0m                                 Traceback (most recent call last)",
      "\u001b[0;32m<ipython-input-74-d0e5951502b0>\u001b[0m in \u001b[0;36m<module>\u001b[0;34m()\u001b[0m\n\u001b[1;32m      1\u001b[0m \u001b[0mgroup_by_province\u001b[0m \u001b[0;34m=\u001b[0m \u001b[0mdf\u001b[0m\u001b[0;34m.\u001b[0m\u001b[0mgroupby\u001b[0m\u001b[0;34m(\u001b[0m\u001b[0;34m'Province'\u001b[0m\u001b[0;34m)\u001b[0m\u001b[0;34m\u001b[0m\u001b[0m\n\u001b[0;32m----> 2\u001b[0;31m \u001b[0mgroup_by_province\u001b[0m\u001b[0;34m.\u001b[0m\u001b[0mplot\u001b[0m\u001b[0;34m(\u001b[0m\u001b[0mkind\u001b[0m\u001b[0;34m)\u001b[0m\u001b[0;34m\u001b[0m\u001b[0m\n\u001b[0m\u001b[1;32m      3\u001b[0m \u001b[0mgroup_by_province\u001b[0m\u001b[0;34m[\u001b[0m\u001b[0;34m'Age'\u001b[0m\u001b[0;34m]\u001b[0m\u001b[0;34m.\u001b[0m\u001b[0mmean\u001b[0m\u001b[0;34m(\u001b[0m\u001b[0;34m)\u001b[0m\u001b[0;34m\u001b[0m\u001b[0m\n",
      "\u001b[0;31mNameError\u001b[0m: name 'kind' is not defined"
     ]
    }
   ],
   "source": [
    "group_by_province = df.groupby('Province')\n",
    "group_by_province.plot(kind)\n",
    "group_by_province['Age'].mean()"
   ]
  },
  {
   "cell_type": "code",
   "execution_count": 96,
   "metadata": {},
   "outputs": [
    {
     "ename": "ValueError",
     "evalue": "Index contains duplicate entries, cannot reshape",
     "output_type": "error",
     "traceback": [
      "\u001b[0;31m---------------------------------------------------------------------------\u001b[0m",
      "\u001b[0;31mValueError\u001b[0m                                Traceback (most recent call last)",
      "\u001b[0;32m<ipython-input-96-338109428efe>\u001b[0m in \u001b[0;36m<module>\u001b[0;34m()\u001b[0m\n\u001b[0;32m----> 1\u001b[0;31m \u001b[0mdf_wide\u001b[0m \u001b[0;34m=\u001b[0m \u001b[0mdf\u001b[0m\u001b[0;34m.\u001b[0m\u001b[0mpivot\u001b[0m\u001b[0;34m(\u001b[0m\u001b[0mindex\u001b[0m\u001b[0;34m=\u001b[0m\u001b[0;34m'Age'\u001b[0m\u001b[0;34m,\u001b[0m \u001b[0mcolumns\u001b[0m\u001b[0;34m=\u001b[0m\u001b[0;34m'Province'\u001b[0m\u001b[0;34m,\u001b[0m \u001b[0mvalues\u001b[0m\u001b[0;34m=\u001b[0m\u001b[0;34m'Day of week'\u001b[0m \u001b[0;34m)\u001b[0m\u001b[0;34m\u001b[0m\u001b[0m\n\u001b[0m\u001b[1;32m      2\u001b[0m \u001b[0mp2\u001b[0m\u001b[0;34m=\u001b[0m\u001b[0msns\u001b[0m\u001b[0;34m.\u001b[0m\u001b[0mheatmap\u001b[0m\u001b[0;34m(\u001b[0m \u001b[0mdf_wide\u001b[0m \u001b[0;34m)\u001b[0m\u001b[0;34m\u001b[0m\u001b[0m\n\u001b[1;32m      3\u001b[0m \u001b[0mp2\u001b[0m\u001b[0;34m\u001b[0m\u001b[0m\n",
      "\u001b[0;32m~/anaconda3_501/lib/python3.6/site-packages/pandas/core/frame.py\u001b[0m in \u001b[0;36mpivot\u001b[0;34m(self, index, columns, values)\u001b[0m\n\u001b[1;32m   3851\u001b[0m         \"\"\"\n\u001b[1;32m   3852\u001b[0m         \u001b[0;32mfrom\u001b[0m \u001b[0mpandas\u001b[0m\u001b[0;34m.\u001b[0m\u001b[0mcore\u001b[0m\u001b[0;34m.\u001b[0m\u001b[0mreshape\u001b[0m\u001b[0;34m.\u001b[0m\u001b[0mreshape\u001b[0m \u001b[0;32mimport\u001b[0m \u001b[0mpivot\u001b[0m\u001b[0;34m\u001b[0m\u001b[0m\n\u001b[0;32m-> 3853\u001b[0;31m         \u001b[0;32mreturn\u001b[0m \u001b[0mpivot\u001b[0m\u001b[0;34m(\u001b[0m\u001b[0mself\u001b[0m\u001b[0;34m,\u001b[0m \u001b[0mindex\u001b[0m\u001b[0;34m=\u001b[0m\u001b[0mindex\u001b[0m\u001b[0;34m,\u001b[0m \u001b[0mcolumns\u001b[0m\u001b[0;34m=\u001b[0m\u001b[0mcolumns\u001b[0m\u001b[0;34m,\u001b[0m \u001b[0mvalues\u001b[0m\u001b[0;34m=\u001b[0m\u001b[0mvalues\u001b[0m\u001b[0;34m)\u001b[0m\u001b[0;34m\u001b[0m\u001b[0m\n\u001b[0m\u001b[1;32m   3854\u001b[0m \u001b[0;34m\u001b[0m\u001b[0m\n\u001b[1;32m   3855\u001b[0m     \u001b[0;32mdef\u001b[0m \u001b[0mstack\u001b[0m\u001b[0;34m(\u001b[0m\u001b[0mself\u001b[0m\u001b[0;34m,\u001b[0m \u001b[0mlevel\u001b[0m\u001b[0;34m=\u001b[0m\u001b[0;34m-\u001b[0m\u001b[0;36m1\u001b[0m\u001b[0;34m,\u001b[0m \u001b[0mdropna\u001b[0m\u001b[0;34m=\u001b[0m\u001b[0;32mTrue\u001b[0m\u001b[0;34m)\u001b[0m\u001b[0;34m:\u001b[0m\u001b[0;34m\u001b[0m\u001b[0m\n",
      "\u001b[0;32m~/anaconda3_501/lib/python3.6/site-packages/pandas/core/reshape/reshape.py\u001b[0m in \u001b[0;36mpivot\u001b[0;34m(self, index, columns, values)\u001b[0m\n\u001b[1;32m    376\u001b[0m         indexed = Series(self[values].values,\n\u001b[1;32m    377\u001b[0m                          index=MultiIndex.from_arrays([index, self[columns]]))\n\u001b[0;32m--> 378\u001b[0;31m         \u001b[0;32mreturn\u001b[0m \u001b[0mindexed\u001b[0m\u001b[0;34m.\u001b[0m\u001b[0munstack\u001b[0m\u001b[0;34m(\u001b[0m\u001b[0mcolumns\u001b[0m\u001b[0;34m)\u001b[0m\u001b[0;34m\u001b[0m\u001b[0m\n\u001b[0m\u001b[1;32m    379\u001b[0m \u001b[0;34m\u001b[0m\u001b[0m\n\u001b[1;32m    380\u001b[0m \u001b[0;34m\u001b[0m\u001b[0m\n",
      "\u001b[0;32m~/anaconda3_501/lib/python3.6/site-packages/pandas/core/series.py\u001b[0m in \u001b[0;36munstack\u001b[0;34m(self, level, fill_value)\u001b[0m\n\u001b[1;32m   2026\u001b[0m         \"\"\"\n\u001b[1;32m   2027\u001b[0m         \u001b[0;32mfrom\u001b[0m \u001b[0mpandas\u001b[0m\u001b[0;34m.\u001b[0m\u001b[0mcore\u001b[0m\u001b[0;34m.\u001b[0m\u001b[0mreshape\u001b[0m\u001b[0;34m.\u001b[0m\u001b[0mreshape\u001b[0m \u001b[0;32mimport\u001b[0m \u001b[0munstack\u001b[0m\u001b[0;34m\u001b[0m\u001b[0m\n\u001b[0;32m-> 2028\u001b[0;31m         \u001b[0;32mreturn\u001b[0m \u001b[0munstack\u001b[0m\u001b[0;34m(\u001b[0m\u001b[0mself\u001b[0m\u001b[0;34m,\u001b[0m \u001b[0mlevel\u001b[0m\u001b[0;34m,\u001b[0m \u001b[0mfill_value\u001b[0m\u001b[0;34m)\u001b[0m\u001b[0;34m\u001b[0m\u001b[0m\n\u001b[0m\u001b[1;32m   2029\u001b[0m \u001b[0;34m\u001b[0m\u001b[0m\n\u001b[1;32m   2030\u001b[0m     \u001b[0;31m# ----------------------------------------------------------------------\u001b[0m\u001b[0;34m\u001b[0m\u001b[0;34m\u001b[0m\u001b[0m\n",
      "\u001b[0;32m~/anaconda3_501/lib/python3.6/site-packages/pandas/core/reshape/reshape.py\u001b[0m in \u001b[0;36munstack\u001b[0;34m(obj, level, fill_value)\u001b[0m\n\u001b[1;32m    456\u001b[0m     \u001b[0;32melse\u001b[0m\u001b[0;34m:\u001b[0m\u001b[0;34m\u001b[0m\u001b[0m\n\u001b[1;32m    457\u001b[0m         unstacker = _Unstacker(obj.values, obj.index, level=level,\n\u001b[0;32m--> 458\u001b[0;31m                                fill_value=fill_value)\n\u001b[0m\u001b[1;32m    459\u001b[0m         \u001b[0;32mreturn\u001b[0m \u001b[0munstacker\u001b[0m\u001b[0;34m.\u001b[0m\u001b[0mget_result\u001b[0m\u001b[0;34m(\u001b[0m\u001b[0;34m)\u001b[0m\u001b[0;34m\u001b[0m\u001b[0m\n\u001b[1;32m    460\u001b[0m \u001b[0;34m\u001b[0m\u001b[0m\n",
      "\u001b[0;32m~/anaconda3_501/lib/python3.6/site-packages/pandas/core/reshape/reshape.py\u001b[0m in \u001b[0;36m__init__\u001b[0;34m(self, values, index, level, value_columns, fill_value)\u001b[0m\n\u001b[1;32m    108\u001b[0m \u001b[0;34m\u001b[0m\u001b[0m\n\u001b[1;32m    109\u001b[0m         \u001b[0mself\u001b[0m\u001b[0;34m.\u001b[0m\u001b[0m_make_sorted_values_labels\u001b[0m\u001b[0;34m(\u001b[0m\u001b[0;34m)\u001b[0m\u001b[0;34m\u001b[0m\u001b[0m\n\u001b[0;32m--> 110\u001b[0;31m         \u001b[0mself\u001b[0m\u001b[0;34m.\u001b[0m\u001b[0m_make_selectors\u001b[0m\u001b[0;34m(\u001b[0m\u001b[0;34m)\u001b[0m\u001b[0;34m\u001b[0m\u001b[0m\n\u001b[0m\u001b[1;32m    111\u001b[0m \u001b[0;34m\u001b[0m\u001b[0m\n\u001b[1;32m    112\u001b[0m     \u001b[0;32mdef\u001b[0m \u001b[0m_make_sorted_values_labels\u001b[0m\u001b[0;34m(\u001b[0m\u001b[0mself\u001b[0m\u001b[0;34m)\u001b[0m\u001b[0;34m:\u001b[0m\u001b[0;34m\u001b[0m\u001b[0m\n",
      "\u001b[0;32m~/anaconda3_501/lib/python3.6/site-packages/pandas/core/reshape/reshape.py\u001b[0m in \u001b[0;36m_make_selectors\u001b[0;34m(self)\u001b[0m\n\u001b[1;32m    146\u001b[0m \u001b[0;34m\u001b[0m\u001b[0m\n\u001b[1;32m    147\u001b[0m         \u001b[0;32mif\u001b[0m \u001b[0mmask\u001b[0m\u001b[0;34m.\u001b[0m\u001b[0msum\u001b[0m\u001b[0;34m(\u001b[0m\u001b[0;34m)\u001b[0m \u001b[0;34m<\u001b[0m \u001b[0mlen\u001b[0m\u001b[0;34m(\u001b[0m\u001b[0mself\u001b[0m\u001b[0;34m.\u001b[0m\u001b[0mindex\u001b[0m\u001b[0;34m)\u001b[0m\u001b[0;34m:\u001b[0m\u001b[0;34m\u001b[0m\u001b[0m\n\u001b[0;32m--> 148\u001b[0;31m             raise ValueError('Index contains duplicate entries, '\n\u001b[0m\u001b[1;32m    149\u001b[0m                              'cannot reshape')\n\u001b[1;32m    150\u001b[0m \u001b[0;34m\u001b[0m\u001b[0m\n",
      "\u001b[0;31mValueError\u001b[0m: Index contains duplicate entries, cannot reshape"
     ]
    }
   ],
   "source": [
    "df_wide = df.pivot(index='Age', columns='Province', values='Day of week' )\n",
    "p2=sns.heatmap( df_wide )\n",
    "p2"
   ]
  },
  {
   "cell_type": "code",
   "execution_count": null,
   "metadata": {},
   "outputs": [],
   "source": [
    "df['Gender identity'].value_counts()"
   ]
  },
  {
   "cell_type": "code",
   "execution_count": null,
   "metadata": {},
   "outputs": [],
   "source": [
    "df['Age range'].groupby(df['Gender identity'])\n",
    "print(df.groupby(['Age range', 'Gender identity']).groups)"
   ]
  },
  {
   "cell_type": "code",
   "execution_count": null,
   "metadata": {},
   "outputs": [],
   "source": [
    "df_by_age_range = df.groupby('Age range')\n",
    "df_by_age_range.describe().head()"
   ]
  },
  {
   "cell_type": "code",
   "execution_count": null,
   "metadata": {},
   "outputs": [],
   "source": [
    "df2 = df.groupby(['Province', 'Gender identity'])[['Gender identity']].count()\n",
    "df2"
   ]
  }
 ],
 "metadata": {
  "kernelspec": {
   "display_name": "Python 3.6",
   "language": "python",
   "name": "python36"
  },
  "language_info": {
   "codemirror_mode": {
    "name": "ipython",
    "version": 3
   },
   "file_extension": ".py",
   "mimetype": "text/x-python",
   "name": "python",
   "nbconvert_exporter": "python",
   "pygments_lexer": "ipython3",
   "version": "3.6.3"
  }
 },
 "nbformat": 4,
 "nbformat_minor": 2
}
